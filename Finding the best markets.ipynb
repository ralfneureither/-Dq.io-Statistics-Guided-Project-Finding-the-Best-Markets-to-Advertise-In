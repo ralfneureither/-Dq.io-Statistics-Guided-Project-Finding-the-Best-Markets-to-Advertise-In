{
 "cells": [
  {
   "cell_type": "markdown",
   "metadata": {},
   "source": [
    "# Guided Project[Statistics]: Finding the Best Markets to Advertise in"
   ]
  },
  {
   "cell_type": "markdown",
   "metadata": {},
   "source": [
    "Let's assume that we're working for an an e-learning company that offers courses on programming. Most of our courses are on web and mobile development, but we also cover many other domains, like data science, game development, etc. We want to promote our product and we'd like to invest some money in advertisement. Our goal in this project is to find out the two best markets to advertise our product in."
   ]
  },
  {
   "cell_type": "markdown",
   "metadata": {},
   "source": [
    "We can try to search existing data that might be relevant for our purpose. One good candidate is the data from freeCodeCamp's 2017 New Coder Survey.\n",
    "\n",
    "https://medium.freecodecamp.org/we-asked-20-000-people-who-they-are-and-how-theyre-learning-to-code-fff5d668969\n",
    "\n",
    "freeCodeCamp is a free e-learning platform that offers courses on web development. Because they run a popular Medium publication (over 400,000 followers), their survey attracted new coders with varying interests (not only web development), which is ideal for the purpose of our analysis.\n",
    "\n",
    "The survey data is publicly available in this GitHub repository: https://github.com/freeCodeCamp/2017-new-coder-survey."
   ]
  },
  {
   "cell_type": "code",
   "execution_count": 1,
   "metadata": {
    "collapsed": false
   },
   "outputs": [
    {
     "name": "stderr",
     "output_type": "stream",
     "text": [
      "/dataquest/system/env/python3/lib/python3.4/site-packages/IPython/core/interactiveshell.py:2723: DtypeWarning: Columns (17,62) have mixed types. Specify dtype option on import or set low_memory=False.\n",
      "  interactivity=interactivity, compiler=compiler, result=result)\n"
     ]
    }
   ],
   "source": [
    "import pandas as pd\n",
    "\n",
    "data=pd.read_csv(\"2017-fCC-New-Coders-Survey-Data.csv\")"
   ]
  },
  {
   "cell_type": "markdown",
   "metadata": {},
   "source": [
    "Beide Columns müssen näher untersucht werden, da sie gemischte Datantypen enthalten."
   ]
  },
  {
   "cell_type": "code",
   "execution_count": 2,
   "metadata": {
    "collapsed": false
   },
   "outputs": [
    {
     "data": {
      "text/plain": [
       "(18175, 136)"
      ]
     },
     "execution_count": 2,
     "metadata": {},
     "output_type": "execute_result"
    }
   ],
   "source": [
    "data.shape"
   ]
  },
  {
   "cell_type": "code",
   "execution_count": 3,
   "metadata": {
    "collapsed": false
   },
   "outputs": [
    {
     "data": {
      "text/plain": [
       "Index(['CodeEventOther', 'JobInterestOther'], dtype='object')"
      ]
     },
     "execution_count": 3,
     "metadata": {},
     "output_type": "execute_result"
    }
   ],
   "source": [
    "data.columns[[17,62]]"
   ]
  },
  {
   "cell_type": "code",
   "execution_count": 4,
   "metadata": {
    "collapsed": false
   },
   "outputs": [
    {
     "data": {
      "text/plain": [
       "array([nan, 'Ladies Learning Code', 'Peatix Events',\n",
       "       'Virada Tecnológica - Brasil', 'Mentoring', 'Microsoft Dev Camps',\n",
       "       'GDG', 'Include Girls Workshop', 'Local Event Called CodeCamp',\n",
       "       'DjangoCon', 'C3', 'Learners Guild Enrollment Day', 'Bootcamp',\n",
       "       'Laracon', 'Girl Geek Carrot', 'Coding Kids', 'No',\n",
       "       'Meet-ups In College', 'Codepen Meetups', 'Code2040',\n",
       "       'Summer Of Tech Bootcamps', 'CTFs', 'CodeNewbie',\n",
       "       'Been Wanting To Attend Women Who Code Etc Hackathons, Go To Hacklab But Am A Chicken And Also A Tired Human',\n",
       "       'Pyladies Events', 'LRUG', 'General Assembly', 'School Mettings',\n",
       "       'TechOlympics', 'The Iron Yard Crash Courses',\n",
       "       'LearningFuze Development Bootcamp In Irvine, CA',\n",
       "       'Code First: Girls', \"Havn't Attended Any Events\", 'WordCamp',\n",
       "       'App Academy Prep Course', ' Kc Code Noobs', 'Noone',\n",
       "       'CCC Waterloo', 'BrazilJS', 'MLH Hackathons', 'No One', 'Techzion',\n",
       "       'Bitmaker (Toronto, ON - CA)', 'The Recurse Center', 'Outreachy',\n",
       "       'Mentor', 'Pink Programming', 'Women Techmakers',\n",
       "       'There Are Very Limited Resources Where I Live',\n",
       "       'Institute Of Code Bali', 'Mentorship For Girls', 'Code Up',\n",
       "       'Competitive Programming', 'HearHerCode DC, Iron Yard Meetups',\n",
       "       'DeveloperDeveloperDeveloper', 'Just In My University.',\n",
       "       'No Attended', 'Weekend Coding Meet Ups', 'Hackathons', 'ACM ICPC',\n",
       "       'Code4 America', 'PyCon', 'Css3 At Universidad De La Laguna',\n",
       "       'Mentorship Saturdays In Portland', 'Codebar!!',\n",
       "       'Some Meetups Organized In My Neighbourhood',\n",
       "       'South Florida Code Camp', 'Hack Reactor', 'Launch Code',\n",
       "       'IndustryConf',\n",
       "       'Email Course On The Fundamentals Of Functional Programming',\n",
       "       'DrupalCon', 'Udemy', 'Software Carpentry', 'Nan',\n",
       "       'Team Retreat :P', 'Hear Me Code', 'Coalition For Queens (C4Q)',\n",
       "       'Google Developer Group', 'WeTeach_CS', 'Code For America',\n",
       "       'Coding Dojo',\n",
       "       \"Just Moved To Kansas City And I'm Going To All The Tech Meetups Here, Kansas City Women In Tech, Kansas City Code And Meetup, Etc. \",\n",
       "       'School', 'IEEEXtreme Competition', 'Perl User Groups',\n",
       "       'Codeathons', 'CodeCoach', 'Zappos Coding Challenge',\n",
       "       'In-company Events', 'Derek Benas', 'Hz', 'Pyday', 'N0',\n",
       "       'I Went To A Bootcamp', 'DevCon Philippines', 'For Loop',\n",
       "       'Programming Knowledge Youtube Channel', 'Metal Toad Meetup',\n",
       "       'Try Turing', 'Local Lectures From College', 'PDX Ruby Group',\n",
       "       '12-week Bootcamp', 'Code Fellows Bootcamp In Seattle, WA',\n",
       "       'Python Code School', 'Saylani Mass Training Program',\n",
       "       'Conferences', 'Codebar',\n",
       "       'There Are No Events In My Area Whatsoever.', 'Noble Desktop',\n",
       "       'Have Yet To Visit', 'All Star Code',\n",
       "       '2 Week Html Class And School', 'High School Code Class',\n",
       "       'Pycon India', 'Google Developers Group',\n",
       "       'General Assembly Introductory Class', 'Detroit.js', 'Discord',\n",
       "       'Andela Bootcamp', 'Course Run At Local Digital Hub',\n",
       "       'Private Classes', 'Pyladies', 'Launchcode', 'TENT',\n",
       "       'Code.org Teacher Training', 'Null', 'Small University Group',\n",
       "       'Didnt Attended Any', 'Android App Building School', 'OpenHack',\n",
       "       'Didnt Have Chance To Attend To Any Event',\n",
       "       'Study Groups For My Minor In College', 'WoC Hackers',\n",
       "       'Py Ohio (Hosted By Local Meetup \"Python Ohio\" Every Year)', 'Q',\n",
       "       'SharePoint Saturdays', 'Manchester Girl Geeks', 'College',\n",
       "       'Spring In JAVA', 'No Events', 'Codesmith', 'Black Tech Week',\n",
       "       'Ninguno', 'Na', 'PyLadies', 'Any',\n",
       "       'AWS Day By AWS User Group Japan In Japan', 'DrupalCamp',\n",
       "       'Meet.js', 'CoderCamps Meet And Greet', 'Library Code Courses',\n",
       "       'Steer Data Viz D3.js', 'Vilnius Girls Code', 'Yt Videos',\n",
       "       'Intro To Computer Science Class', 'Self Coding',\n",
       "       'College-related',\n",
       "       'Minor Programmen At The University Of Amsterdam',\n",
       "       'Coding Bootcamp', '5 Month Private Class', 'Camp',\n",
       "       'I Meet With A Friend Weekly.', 'CoderGirls',\n",
       "       'Meetup With Friends', 'OKCoders', 'JavaForum Stuttgart',\n",
       "       'Angular', 'Boise Code Camp', 'Competion',\n",
       "       'Eduweb.pl Web Design UI/UX/HTML Bootcamp', 'MyCocoahead', 'Puppy',\n",
       "       'Haven;t Been 2 One', 'Competitions',\n",
       "       'Library Hosted Classes And Workshops', 'Girls Who Code',\n",
       "       'I Dont Atend', 'Weekly Courses Held By Our School',\n",
       "       'Campus Party Mexico', 'Le Wagon', 'Code & Beer In Seattle',\n",
       "       'Local Events', 'Codeforce', 'Hackerspace Member', 'Brainstation',\n",
       "       'Code For Orlando', 'Radius Co-Working Events', 'PiterJS',\n",
       "       'Meetup Data Girls', 'ChiHack Night', 'WordPress Meetup Groups',\n",
       "       'CoderGirl By LaunchCode', 'Code Fellows', 'NIT FossMeet',\n",
       "       'LaunchCode', 'Any One', 'Letslearncoding.org', 'No Event',\n",
       "       'Local', 'IDTech', 'Barcode', 'Www.thenewboston.com', '.',\n",
       "       'Local Coding Club', 'CodeCamp Cluj, DevDays Cluj',\n",
       "       'We Got Coders', 'Learn Teach Code LA', 'N A', \"I Havn't\",\n",
       "       'Computer Science 1st Year',\n",
       "       'Programming Group Projects In My College Of Technology',\n",
       "       'Hyperion', 'YouTube', 'Epicodus (part Time/full Time Boot Camp)',\n",
       "       'Rmotr', 'High School Curriculum', 'NEXT Academy (Malaysia)',\n",
       "       'Easyctf', 'Meetup', 'GreenFox', 'Friends', 'School Camp',\n",
       "       'Codemotion', 'At Our University PAFKIET(IntraBattle)', 'Code.org',\n",
       "       'Lær Kids Koding',\n",
       "       'Networking With Women Like Me Who Are Currently Learning Code',\n",
       "       'Free Class', 'Mini Curso De Python', 'Google', 'Hacklab Almeria',\n",
       "       'Local Developers Events', 'Symposium',\n",
       "       'Coding Club Started With Developers At The Software Company I Work For.',\n",
       "       'Meetus', 'Reactive Conference Bratislava', 'CoderDojo Scotland',\n",
       "       'Pink Programming, Codher', 'Coding Tutorials 360', 'Code Clan',\n",
       "       'Ladies Learn Code', 'Bay Area Coding Sessions', 'Codementor.io',\n",
       "       'HackSSC', 'Thinkful Meetups', 'CodeUp Manchester',\n",
       "       'Amazon Workshop For Getting Into Coding', 'Php Conference',\n",
       "       'HeartLandGaming Expo', 'DroidCon', 'Pycon',\n",
       "       'Continuing Education Program For IT', 'Smashing Conference',\n",
       "       'Google Developers Conference. GDG', 'Informatics Olympiads',\n",
       "       'Hour Of Code', 'Galvanize', 'SC Codes', 'Hackerspace',\n",
       "       'Google Developers Group Ghana', 'Codingame', 'AZ Code Challenge',\n",
       "       \"Here In My Country We Don't Have Much Of This Kind Of Meetings. Brazil\",\n",
       "       '7 Week Bootcamp', 'Ironhack',\n",
       "       'Google Developer Groups Study Jam,devfest', '微软win10校园开发',\n",
       "       'Codechef', 'Code Over Coffee', 'Week Long Bootcamp',\n",
       "       'Free Software Day Event', 'Grace Hopper Conference',\n",
       "       'Free Code Camp', '-', 'Firebase Dev Summit',\n",
       "       'Talking To Other Developers At My Company', 'PuppetConf 2016',\n",
       "       'Hackaton', 'Code For Miami', 'Ainsleys Cooking Classes',\n",
       "       'College Competion', 'Laracast', 'Code Academy Azerbaijan',\n",
       "       'Iforum, Wordpress Kitchen', 'Codecool', 'Bristol JS',\n",
       "       'Hack Reactor Meetups, Rithm School Meetups', 'WoMoz',\n",
       "       'Founders And Coders', 'Local Courses From Es-press-oh',\n",
       "       'Exercises At The University', 'FISL',\n",
       "       'Inspaya Incubator In Nigeria', 'Edx', ' D', 'Weekly Bootcamps',\n",
       "       'Νονε', 'The Iron Yard', 'Sololearn', 'Code Camp South Florida',\n",
       "       'Bhkbhk', 'LaunchCode Mentorship', 'A', 'LaunchCode LC101',\n",
       "       'Unknown', 'Roblox', 'Html500 Vancouver',\n",
       "       'Tech Meetup Edinburgh, Scotland Based Event', 'Asdf',\n",
       "       'GDG Meetups', \"I Don't Remember What's That Called\",\n",
       "       'Bootcamps Night', 'CoderGirl',\n",
       "       'General Assembly Data Science Bootcamp', 'Codebar Brighton',\n",
       "       'School Classes', 'Coder Dojo', 'She Codes;', 'Codecademy London',\n",
       "       'Bitwise', 'CTF', 'Class', 'Crash Courses', 'Didnt Attempt',\n",
       "       'Google DevFest', \"GDG Code D'Armor\", 'I Havnt',\n",
       "       'Sleep Over With Friends', 'I Attended In Bootcamps In My Region',\n",
       "       'Coding Contests', 'Gdg', 'Campus Party Brasil 2017', 'Web Summit',\n",
       "       'Google Developer Groups', 'College Class For A Year',\n",
       "       'College Events', 'PyCaribbean 2017',\n",
       "       \"Couplo' Kids Web Pages On Coding :)\",\n",
       "       \"I Live In Saudi Arabia And There Ain't Much Event Organized Here\",\n",
       "       'School Groups :)', 'College Hackathon', 'Home Meets', 'IRL',\n",
       "       'Mobile App Development Class', 'Baidu',\n",
       "       \"My College's Own Activities\", 'Iduntdoanyting',\n",
       "       'Random Conversations With Friends Of Friends And Friend-friends',\n",
       "       'Hackers News Meetup', 'Meet Ups', 'Other School',\n",
       "       'Coding Classes', 'College :(', 'Coder Camps-Pearland Texas',\n",
       "       'Seattle Coder Dojo', 'University Events Etc', 'Short Bootcamp',\n",
       "       'Have Yet To Attend', 'Group, Friend, Coding Jams!', 'Php Conf',\n",
       "       'Slef', 'Jug Meet Up',\n",
       "       'Just Starting School, Take Advantage Of Office Hours, Slack And Coffe Clatches Dedicated To Coding',\n",
       "       'Code First Girls',\n",
       "       'I Attend Firestation 101 Every Saturday. We Use FreeCodeCamp.',\n",
       "       'Developer Conferences', \"I Don't Have Attended Yet.\", 'Youtube',\n",
       "       'Coderhouse', 'University Workshop', 'Codecademy', 'LearningFuze',\n",
       "       'Geek Girls Carrots', 'CoderDojo Silicon Valley', 'Rails Girls',\n",
       "       'CoLab Kaduna', 'Internet', 'DevFest', 'Q College',\n",
       "       'AndroidSchool', 'Campus Party',\n",
       "       'Python For (Typo)Graphic Designers', 'For Loop Lagos',\n",
       "       'Meet Up And Teaching', 'HackerRank', 'Female Coders Lab',\n",
       "       'Hackathon', 'Open Source 101', 'Ieee', 'Hackerrank',\n",
       "       'PHP 7 Lection', 'RubyRails', 'Other', 'Swap Round Project',\n",
       "       'CodeFirst:Girls', 'Didnt Attend', 'Coderbunker', 'Nobody',\n",
       "       'Forloop', 'I Didnt', 'DevCongress Meetups', 'Audax', 'CodeSmith',\n",
       "       'A Part-time Course With Instructors And Peers', \"I Don't Know\",\n",
       "       'No,I Have No Attended It', 'Ihub Meetups', 'GDG Events',\n",
       "       'Facebook Groups', 'Code Platoon', 'Rutgers Coding Bootcamp',\n",
       "       'Lighthouse Labs', 'Local Part Time Bootcamps', 'University',\n",
       "       'Linux Security Related 5 Days Boot Camp', 'PHP Courses',\n",
       "       'AstanaJUG', 'Betabeers', 'School Events Such As Cat Barcamp',\n",
       "       'Yow', 'Local Ones', 'Books', 'College Class Meetups',\n",
       "       'Youtube Conversations Live - Video Streaming',\n",
       "       'No Coding-related Events', 'Baseball Hack Day',\n",
       "       'Code For Greenville', 'User Group Meetup', 'GoCode Colorado',\n",
       "       'Bootcamp Free Workshops', 'Google Dev Conference',\n",
       "       'Work Full Time', 'HackerYou, Ladies Learning Code', 'Rails Camp',\n",
       "       'Learning Tree', 'User Groups', 'Bootcamp Online',\n",
       "       'Cisco Live DevNet', 'YOU TUBE FREE TUTORIALS', 'Meetups',\n",
       "       'Webinar Online', 'Local Ruby Meetup (Dakar)',\n",
       "       'Local Game Developer Group', 'Chi Hack Night Open Data Hacking',\n",
       "       'Off-line Java Courses', 'Legal Hackers', 'Word Camp',\n",
       "       'Grand Circus', 'Edx, Alison, Coursera', 'An Event Apart',\n",
       "       'Self Trained', 'EL ZERO WEB SCHOOL',\n",
       "       'Getting Together With Family Who Code', 'Learners Guild',\n",
       "       'Local Coding And Dinner Event', 'My Friend', 'N', 'Sir Syed',\n",
       "       'Google Code Camp', 'WSD - WebStandardsDays',\n",
       "       'A Class At Community College', 'Matf', 'EPAM Trainings'],\n",
       "      dtype=object)"
      ]
     },
     "execution_count": 4,
     "metadata": {},
     "output_type": "execute_result"
    }
   ],
   "source": [
    "data[data.columns[17]].unique()"
   ]
  },
  {
   "cell_type": "code",
   "execution_count": 5,
   "metadata": {
    "collapsed": false
   },
   "outputs": [
    {
     "data": {
      "text/plain": [
       "array([nan, 'Security Expert', 'Technical Writer', 'Researcher',\n",
       "       'Systems Engineer', 'Desktop Applications Programmer', 'Robotics',\n",
       "       'Non Technical', 'UI Design', 'Software Engineer', 'Email Coder',\n",
       "       'Data Analyst', 'I Dont Yet Know', 'UX Developer/designer',\n",
       "       'Support Scientific Resaerch', 'AI And Neuroscience',\n",
       "       'Full Stack Software Engineer', 'Program Manager',\n",
       "       'Application Support Analyst',\n",
       "       \"This Futurist's Dream Of Using Some Tech In A Way That Inspires Critical Amounts Of People To Influence The Changes We Need To Protect & Repair Our Planet\",\n",
       "       'Information Architect', 'Physicist', 'Security Business Analyst',\n",
       "       'Bioinformatics/science',\n",
       "       'Creative Coder / Generative Artist/designer',\n",
       "       'A Job In Which I Can Use Coding Skills To Create Valuable Portals To Advance Human Rights',\n",
       "       'Research', 'Bitcoin/Crypto', 'Embedded Hardware',\n",
       "       'Data/Interactive Journalist', 'Software Engineering',\n",
       "       'Business Analyst', 'Network Engineer', 'Information Developer',\n",
       "       'Java Developer', 'Project Management',\n",
       "       'Machine Learning Engineer', 'Real-time Systems', 'Cybersecurity',\n",
       "       'GIS Developer', 'Research And Education', 'System Software',\n",
       "       'Full Stack Developer & Instructional Designer / Educational Technologist',\n",
       "       'AI', ' Bioinformatics', 'Urban Planner', 'Full Stack Developer',\n",
       "       'SWE', 'Embedded Developer', 'Virtual Reality Developer',\n",
       "       'Journalist/Graphic Designer/Marketing', 'Web Designer',\n",
       "       'Computer Architect', 'Networking', 'Software Developer',\n",
       "       'AI And Machine Learning', 'Computer Engineer',\n",
       "       'Artificial Intelligence', 'Systems Programming',\n",
       "       'Software Engineer (Computer Science Based)',\n",
       "       'Technology Management', 'Full-stack Developer', 'BA Or Developer',\n",
       "       'User Interface Design', 'System Engineer', 'Network', 'Analyst',\n",
       "       'Machine Learning', 'Pharmacy Tech',\n",
       "       'Data Journalist / Data Visualist', 'Desings',\n",
       "       'Infrastructure Architect', 'Tech Art',\n",
       "       'Technology-Business Liaison', 'Product Designer',\n",
       "       'Front-End Web Designer', 'Document Controller',\n",
       "       'Software Enginner', 'Programmer', 'Undeceided',\n",
       "       'Pharmaceutical Industry', 'Information Technology',\n",
       "       'Library Developer', 'Desktop Application Developer',\n",
       "       'Operating Systems, Compilers, Etc...', 'GIS Database Admin',\n",
       "       'Designer', 'Support Engineer Or API Support', 'Python Developer',\n",
       "       'Bioinformatics', 'Robotics Process Automation Specialist',\n",
       "       'Data Visualisation', 'Desktop Applications Developer',\n",
       "       'All - Whatever Is Required To Develop Tools To Revolutionize The Mechanical Engineering Process',\n",
       "       'Digital Humanitites', 'User Interface Designer',\n",
       "       'Software Development', 'Programming', 'Web Development',\n",
       "       'Marketing', 'Financial Services', 'Natural Language Processing',\n",
       "       'Entreprenuer / Web Dev Hustler', 'Marketing Automation',\n",
       "       'AI Developer', 'Network Admin',\n",
       "       'Front End, Back End, Game, Web, Mobile Developer',\n",
       "       'Computer Scientist', 'UI Designer', 'Data Entry',\n",
       "       'Business Consultant', 'Cloud Computing',\n",
       "       'Machine\\u200b Learning Engineer',\n",
       "       \"I'd Like To Wear Lots Of Hats And Do Hard Work\", 'Fintech',\n",
       "       'Neuroscientist', 'Visual Designer', 'Database Administration',\n",
       "       'Application Developer', 'AI Development', 'Eggs',\n",
       "       'Project Manager', 'Undecided', 'Milatary Engineer', 'SEO',\n",
       "       'Astrophysicist', '*', 'Journalist', 'Philosopher',\n",
       "       'Desktop Applications', 'IoT Developer', 'Systems Programmer',\n",
       "       'Professor', 'Artificial Intelligence Engineer',\n",
       "       'Developer Evangelist', 'Interaction Developer',\n",
       "       'Bioinformatitian', 'IoT', 'Entrepreneur',\n",
       "       'I Am Interested In Game Development, Mobile Development, Web Design, Front End Web Development',\n",
       "       'Data Reporter', 'Computer Vision Engineer/Research Scientist',\n",
       "       'Web Developer', 'Robotics And AI Engineer', 'Ethical Hacker',\n",
       "       'Scientific Programming',\n",
       "       'Software Developer Or Front-End Web Developer',\n",
       "       'Campaign Manager', 'AI Engineer', 'Software Specialist',\n",
       "       'Growth Hacker', 'Founder', 'Software Engineers',\n",
       "       'VR Technology Developer', 'Developer', 'Plc', 'Ceo',\n",
       "       'Tech Lobbiest', 'Quant (Algorithmic Trader)',\n",
       "       'Machine Learning And AI', 'Databases', 'Software Developper',\n",
       "       'College Professor', 'System Administrator/Network',\n",
       "       'Software Projects Manager', 'Teacher. Teaching Students To Code.',\n",
       "       'Education',\n",
       "       'Code Developer...in Whatever Format, Front-end, Back-end, App Dev Etc.',\n",
       "       'Improving In My Current Career As A Learning Technologist',\n",
       "       'Informatician', 'Lab Scientist', 'Data Visualization Specialist',\n",
       "       \"I'm Just Learning Code To Increase My Skill-set. I See It As A Literacy Issue.\",\n",
       "       'Teacher', 'Criminal Defense Attorney-- Focusing On Cyber Crimes',\n",
       "       'Remote Support', 'Non-programmer', 'IT Specialist'], dtype=object)"
      ]
     },
     "execution_count": 5,
     "metadata": {},
     "output_type": "execute_result"
    }
   ],
   "source": [
    "data[data.columns[62]].unique()"
   ]
  },
  {
   "cell_type": "markdown",
   "metadata": {},
   "source": [
    "Pandas hat zwar bereits als Datentyp \"object\" angelegt, dennoch wird dies händisch nachgeholt, um zu prüfen, ob der Fehler daraufhin nicht mehr erscheint."
   ]
  },
  {
   "cell_type": "code",
   "execution_count": 6,
   "metadata": {
    "collapsed": true
   },
   "outputs": [],
   "source": [
    "data=pd.read_csv(\"2017-fCC-New-Coders-Survey-Data.csv\",dtype={\"CodeEventOther\":object,\"JobInterestOther\":object})"
   ]
  },
  {
   "cell_type": "markdown",
   "metadata": {},
   "source": [
    "Der Fehler erscheint nicht mehr, es hat funktioniert."
   ]
  },
  {
   "cell_type": "code",
   "execution_count": 7,
   "metadata": {
    "collapsed": false
   },
   "outputs": [
    {
     "name": "stdout",
     "output_type": "stream",
     "text": [
      "Index(['Age', 'AttendedBootcamp', 'BootcampFinish', 'BootcampLoanYesNo',\n",
      "       'BootcampName', 'BootcampRecommend', 'ChildrenNumber', 'CityPopulation',\n",
      "       'CodeEventConferences', 'CodeEventDjangoGirls', 'CodeEventFCC',\n",
      "       'CodeEventGameJam', 'CodeEventGirlDev', 'CodeEventHackathons',\n",
      "       'CodeEventMeetup', 'CodeEventNodeSchool', 'CodeEventNone',\n",
      "       'CodeEventOther', 'CodeEventRailsBridge', 'CodeEventRailsGirls',\n",
      "       'CodeEventStartUpWknd', 'CodeEventWkdBootcamps', 'CodeEventWomenCode',\n",
      "       'CodeEventWorkshops', 'CommuteTime', 'CountryCitizen', 'CountryLive',\n",
      "       'EmploymentField', 'EmploymentFieldOther', 'EmploymentStatus',\n",
      "       'EmploymentStatusOther', 'ExpectedEarning', 'FinanciallySupporting',\n",
      "       'FirstDevJob', 'Gender', 'GenderOther', 'HasChildren', 'HasDebt',\n",
      "       'HasFinancialDependents', 'HasHighSpdInternet', 'HasHomeMortgage',\n",
      "       'HasServedInMilitary', 'HasStudentDebt', 'HomeMortgageOwe',\n",
      "       'HoursLearning', 'ID.x', 'ID.y', 'Income', 'IsEthnicMinority',\n",
      "       'IsReceiveDisabilitiesBenefits', 'IsSoftwareDev', 'IsUnderEmployed',\n",
      "       'JobApplyWhen', 'JobInterestBackEnd', 'JobInterestDataEngr',\n",
      "       'JobInterestDataSci', 'JobInterestDevOps', 'JobInterestFrontEnd',\n",
      "       'JobInterestFullStack', 'JobInterestGameDev', 'JobInterestInfoSec',\n",
      "       'JobInterestMobile', 'JobInterestOther', 'JobInterestProjMngr',\n",
      "       'JobInterestQAEngr', 'JobInterestUX', 'JobPref', 'JobRelocateYesNo',\n",
      "       'JobRoleInterest', 'JobWherePref', 'LanguageAtHome', 'MaritalStatus',\n",
      "       'MoneyForLearning', 'MonthsProgramming', 'NetworkID', 'Part1EndTime',\n",
      "       'Part1StartTime', 'Part2EndTime', 'Part2StartTime', 'PodcastChangeLog',\n",
      "       'PodcastCodeNewbie', 'PodcastCodePen', 'PodcastDevTea', 'PodcastDotNET',\n",
      "       'PodcastGiantRobots', 'PodcastJSAir', 'PodcastJSJabber', 'PodcastNone',\n",
      "       'PodcastOther', 'PodcastProgThrowdown', 'PodcastRubyRogues',\n",
      "       'PodcastSEDaily', 'PodcastSERadio', 'PodcastShopTalk',\n",
      "       'PodcastTalkPython', 'PodcastTheWebAhead', 'ResourceCodecademy',\n",
      "       'ResourceCodeWars', 'ResourceCoursera', 'ResourceCSS', 'ResourceEdX',\n",
      "       'ResourceEgghead', 'ResourceFCC', 'ResourceHackerRank', 'ResourceKA',\n",
      "       'ResourceLynda', 'ResourceMDN', 'ResourceOdinProj', 'ResourceOther',\n",
      "       'ResourcePluralSight', 'ResourceSkillcrush', 'ResourceSO',\n",
      "       'ResourceTreehouse', 'ResourceUdacity', 'ResourceUdemy', 'ResourceW3S',\n",
      "       'SchoolDegree', 'SchoolMajor', 'StudentDebtOwe', 'YouTubeCodeCourse',\n",
      "       'YouTubeCodingTrain', 'YouTubeCodingTut360', 'YouTubeComputerphile',\n",
      "       'YouTubeDerekBanas', 'YouTubeDevTips', 'YouTubeEngineeredTruth',\n",
      "       'YouTubeFCC', 'YouTubeFunFunFunction', 'YouTubeGoogleDev',\n",
      "       'YouTubeLearnCode', 'YouTubeLevelUpTuts', 'YouTubeMIT',\n",
      "       'YouTubeMozillaHacks', 'YouTubeOther', 'YouTubeSimplilearn',\n",
      "       'YouTubeTheNewBoston'],\n",
      "      dtype='object')\n"
     ]
    }
   ],
   "source": [
    "with pd.option_context(\"display.max_seq_items\",10000):\n",
    "    print(data.columns)"
   ]
  },
  {
   "cell_type": "markdown",
   "metadata": {},
   "source": [
    "For the purpose of our analysis, we want to answer questions about a population of new coders that are interested in the subjects we teach. We'd like to know:\n",
    "\n",
    "    Where are these new coders located.\n",
    "    What are the locations with the greatest number of new coders.\n",
    "    How much money new coders are willing to spend on learning.\n",
    "    \n",
    "Before starting to analyze the sample data we have, we need to clarify whether it's representative for our population of interest and it has the right categories of people for our purpose.\n",
    "\n",
    "The focus of our courses is on web and mobile development. How many people are interested in at least one of these two subjects?\n"
   ]
  },
  {
   "cell_type": "code",
   "execution_count": 8,
   "metadata": {
    "collapsed": false
   },
   "outputs": [
    {
     "data": {
      "text/plain": [
       "NaN                                                                                                                                                                                                                                                                         0.615296\n",
       "Full-Stack Web Developer                                                                                                                                                                                                                                                    0.045282\n",
       "  Front-End Web Developer                                                                                                                                                                                                                                                   0.024759\n",
       "  Data Scientist                                                                                                                                                                                                                                                            0.008363\n",
       "Back-End Web Developer                                                                                                                                                                                                                                                      0.007813\n",
       "  Mobile Developer                                                                                                                                                                                                                                                          0.006437\n",
       "Game Developer                                                                                                                                                                                                                                                              0.006272\n",
       "Information Security                                                                                                                                                                                                                                                        0.005062\n",
       "Full-Stack Web Developer,   Front-End Web Developer                                                                                                                                                                                                                         0.003521\n",
       "  Front-End Web Developer, Full-Stack Web Developer                                                                                                                                                                                                                         0.003081\n",
       "  Product Manager                                                                                                                                                                                                                                                           0.003026\n",
       "Data Engineer                                                                                                                                                                                                                                                               0.002916\n",
       "  User Experience Designer                                                                                                                                                                                                                                                  0.002861\n",
       "  User Experience Designer,   Front-End Web Developer                                                                                                                                                                                                                       0.002366\n",
       "  Front-End Web Developer, Back-End Web Developer, Full-Stack Web Developer                                                                                                                                                                                                 0.002146\n",
       "Back-End Web Developer, Full-Stack Web Developer,   Front-End Web Developer                                                                                                                                                                                                 0.001981\n",
       "  DevOps / SysAdmin                                                                                                                                                                                                                                                         0.001981\n",
       "Back-End Web Developer,   Front-End Web Developer, Full-Stack Web Developer                                                                                                                                                                                                 0.001981\n",
       "Full-Stack Web Developer,   Front-End Web Developer, Back-End Web Developer                                                                                                                                                                                                 0.001706\n",
       "  Front-End Web Developer, Full-Stack Web Developer, Back-End Web Developer                                                                                                                                                                                                 0.001651\n",
       "Full-Stack Web Developer,   Mobile Developer                                                                                                                                                                                                                                0.001596\n",
       "  Front-End Web Developer,   User Experience Designer                                                                                                                                                                                                                       0.001596\n",
       "Back-End Web Developer, Full-Stack Web Developer                                                                                                                                                                                                                            0.001486\n",
       "Full-Stack Web Developer, Back-End Web Developer                                                                                                                                                                                                                            0.001431\n",
       "Back-End Web Developer,   Front-End Web Developer                                                                                                                                                                                                                           0.001100\n",
       "Data Engineer,   Data Scientist                                                                                                                                                                                                                                             0.001045\n",
       "Full-Stack Web Developer, Back-End Web Developer,   Front-End Web Developer                                                                                                                                                                                                 0.001045\n",
       "  Front-End Web Developer,   Mobile Developer                                                                                                                                                                                                                               0.000990\n",
       "Full-Stack Web Developer,   Data Scientist                                                                                                                                                                                                                                  0.000935\n",
       "  Data Scientist, Data Engineer                                                                                                                                                                                                                                             0.000880\n",
       "                                                                                                                                                                                                                                                                              ...   \n",
       "  Mobile Developer, Back-End Web Developer,   DevOps / SysAdmin                                                                                                                                                                                                             0.000055\n",
       "  Product Manager,   Front-End Web Developer,   User Experience Designer,   Data Scientist, Full-Stack Web Developer, Data Engineer,   Quality Assurance Engineer                                                                                                           0.000055\n",
       "  Front-End Web Developer,   Mobile Developer, Game Developer,   User Experience Designer, Back-End Web Developer, Full-Stack Web Developer                                                                                                                                 0.000055\n",
       "Back-End Web Developer,   Mobile Developer,   Data Scientist, Information Security, Full-Stack Web Developer                                                                                                                                                                0.000055\n",
       "  Front-End Web Developer, Information Security,   Quality Assurance Engineer,   Mobile Developer, Game Developer,   User Experience Designer, Back-End Web Developer                                                                                                       0.000055\n",
       "Game Developer,   Product Manager, Information Security, Data Engineer, Full-Stack Web Developer,   Data Scientist                                                                                                                                                          0.000055\n",
       "  DevOps / SysAdmin,   Front-End Web Developer, Full-Stack Web Developer, Back-End Web Developer, Game Developer                                                                                                                                                            0.000055\n",
       "Game Developer, Data Engineer, Back-End Web Developer, Full-Stack Web Developer,   Front-End Web Developer,   User Experience Designer,   Data Scientist                                                                                                                    0.000055\n",
       "Full-Stack Web Developer,   DevOps / SysAdmin,   Data Scientist,   Front-End Web Developer,   User Experience Designer                                                                                                                                                      0.000055\n",
       "  DevOps / SysAdmin, Back-End Web Developer,   Front-End Web Developer, Full-Stack Web Developer, Information Security                                                                                                                                                      0.000055\n",
       "  Front-End Web Developer,   Data Scientist, Game Developer,   Product Manager, Information Security                                                                                                                                                                        0.000055\n",
       "  Data Scientist,   DevOps / SysAdmin, Game Developer,   Mobile Developer, Information Security, Data Engineer,   Quality Assurance Engineer, Back-End Web Developer, Full-Stack Web Developer,   Product Manager,   Front-End Web Developer,   User Experience Designer    0.000055\n",
       "Information Security, Full-Stack Web Developer,   Front-End Web Developer, Back-End Web Developer,   Mobile Developer                                                                                                                                                       0.000055\n",
       "Information Security, Data Engineer,   Product Manager,   Data Scientist                                                                                                                                                                                                    0.000055\n",
       "idk                                                                                                                                                                                                                                                                         0.000055\n",
       "  Quality Assurance Engineer,   Data Scientist, Full-Stack Web Developer                                                                                                                                                                                                    0.000055\n",
       "Data Engineer,   Quality Assurance Engineer, Information Security,   Data Scientist                                                                                                                                                                                         0.000055\n",
       "Information Security,   User Experience Designer, Full-Stack Web Developer,   Data Scientist, Back-End Web Developer, Game Developer,   Front-End Web Developer, Data Engineer,   Mobile Developer,   Product Manager                                                       0.000055\n",
       "  Data Scientist,   Front-End Web Developer, Back-End Web Developer, Data Engineer                                                                                                                                                                                          0.000055\n",
       "  Product Manager, Full-Stack Web Developer,   Mobile Developer,   User Experience Designer, Data Engineer,   Front-End Web Developer,   Data Scientist, Information Security, Game Developer,   DevOps / SysAdmin, Back-End Web Developer,   Quality Assurance Engineer    0.000055\n",
       "  Mobile Developer,   Front-End Web Developer, Data Engineer, Back-End Web Developer, Information Security,   Quality Assurance Engineer                                                                                                                                    0.000055\n",
       "  Front-End Web Developer,   Quality Assurance Engineer, Full-Stack Web Developer,   Mobile Developer                                                                                                                                                                       0.000055\n",
       "Back-End Web Developer,   Mobile Developer,   User Experience Designer,   Data Scientist,   Front-End Web Developer, Game Developer, Full-Stack Web Developer,   Product Manager                                                                                            0.000055\n",
       "Desktop Applications                                                                                                                                                                                                                                                        0.000055\n",
       "Back-End Web Developer,   Front-End Web Developer,   Mobile Developer, Game Developer,   User Experience Designer, Full-Stack Web Developer                                                                                                                                 0.000055\n",
       "  Product Manager, Information Security, Back-End Web Developer,   DevOps / SysAdmin                                                                                                                                                                                        0.000055\n",
       "Information Security, Data Engineer, Back-End Web Developer, Full-Stack Web Developer,   Product Manager,   Data Scientist                                                                                                                                                  0.000055\n",
       "  Mobile Developer, Data Engineer,   Data Scientist                                                                                                                                                                                                                         0.000055\n",
       "  Mobile Developer,   Front-End Web Developer,   Data Scientist,   User Experience Designer, Full-Stack Web Developer                                                                                                                                                       0.000055\n",
       "  Product Manager, Back-End Web Developer, Desktop applications developer                                                                                                                                                                                                   0.000055\n",
       "Name: JobRoleInterest, Length: 3214, dtype: float64"
      ]
     },
     "execution_count": 8,
     "metadata": {},
     "output_type": "execute_result"
    }
   ],
   "source": [
    "data[\"JobRoleInterest\"].value_counts(normalize=True,dropna=False)"
   ]
  },
  {
   "cell_type": "markdown",
   "metadata": {},
   "source": [
    "Zur weiteren Auswertung müssen erst die ca. 62% nicht-ausgefüllten Teilnehmer entfernt werden."
   ]
  },
  {
   "cell_type": "code",
   "execution_count": 9,
   "metadata": {
    "collapsed": true
   },
   "outputs": [],
   "source": [
    "job_role_interest=data[\"JobRoleInterest\"]"
   ]
  },
  {
   "cell_type": "code",
   "execution_count": 10,
   "metadata": {
    "collapsed": false
   },
   "outputs": [],
   "source": [
    "job_role_interest.dropna(inplace=True)"
   ]
  },
  {
   "cell_type": "markdown",
   "metadata": {},
   "source": [
    "Manipulation check:"
   ]
  },
  {
   "cell_type": "code",
   "execution_count": 11,
   "metadata": {
    "collapsed": false
   },
   "outputs": [
    {
     "data": {
      "text/plain": [
       "Full-Stack Web Developer                                                                                                                                                                                                                                                    0.117706\n",
       "  Front-End Web Developer                                                                                                                                                                                                                                                   0.064359\n",
       "  Data Scientist                                                                                                                                                                                                                                                            0.021739\n",
       "Back-End Web Developer                                                                                                                                                                                                                                                      0.020309\n",
       "  Mobile Developer                                                                                                                                                                                                                                                          0.016733\n",
       "Game Developer                                                                                                                                                                                                                                                              0.016304\n",
       "Information Security                                                                                                                                                                                                                                                        0.013158\n",
       "Full-Stack Web Developer,   Front-End Web Developer                                                                                                                                                                                                                         0.009153\n",
       "  Front-End Web Developer, Full-Stack Web Developer                                                                                                                                                                                                                         0.008009\n",
       "  Product Manager                                                                                                                                                                                                                                                           0.007866\n",
       "Data Engineer                                                                                                                                                                                                                                                               0.007580\n",
       "  User Experience Designer                                                                                                                                                                                                                                                  0.007437\n",
       "  User Experience Designer,   Front-End Web Developer                                                                                                                                                                                                                       0.006150\n",
       "  Front-End Web Developer, Back-End Web Developer, Full-Stack Web Developer                                                                                                                                                                                                 0.005578\n",
       "Back-End Web Developer,   Front-End Web Developer, Full-Stack Web Developer                                                                                                                                                                                                 0.005149\n",
       "  DevOps / SysAdmin                                                                                                                                                                                                                                                         0.005149\n",
       "Back-End Web Developer, Full-Stack Web Developer,   Front-End Web Developer                                                                                                                                                                                                 0.005149\n",
       "Full-Stack Web Developer,   Front-End Web Developer, Back-End Web Developer                                                                                                                                                                                                 0.004434\n",
       "  Front-End Web Developer, Full-Stack Web Developer, Back-End Web Developer                                                                                                                                                                                                 0.004291\n",
       "  Front-End Web Developer,   User Experience Designer                                                                                                                                                                                                                       0.004148\n",
       "Full-Stack Web Developer,   Mobile Developer                                                                                                                                                                                                                                0.004148\n",
       "Back-End Web Developer, Full-Stack Web Developer                                                                                                                                                                                                                            0.003862\n",
       "Full-Stack Web Developer, Back-End Web Developer                                                                                                                                                                                                                            0.003719\n",
       "Back-End Web Developer,   Front-End Web Developer                                                                                                                                                                                                                           0.002860\n",
       "Full-Stack Web Developer, Back-End Web Developer,   Front-End Web Developer                                                                                                                                                                                                 0.002717\n",
       "Data Engineer,   Data Scientist                                                                                                                                                                                                                                             0.002717\n",
       "  Front-End Web Developer,   Mobile Developer                                                                                                                                                                                                                               0.002574\n",
       "Full-Stack Web Developer,   Data Scientist                                                                                                                                                                                                                                  0.002431\n",
       "  Data Scientist, Data Engineer                                                                                                                                                                                                                                             0.002288\n",
       "  Mobile Developer, Game Developer                                                                                                                                                                                                                                          0.002288\n",
       "                                                                                                                                                                                                                                                                              ...   \n",
       "  Data Scientist,   Mobile Developer, Information Security, Back-End Web Developer, Full-Stack Web Developer,   Front-End Web Developer,   DevOps / SysAdmin                                                                                                                0.000143\n",
       "  User Experience Designer,   DevOps / SysAdmin, Full-Stack Web Developer,   Front-End Web Developer, Back-End Web Developer                                                                                                                                                0.000143\n",
       "Game Developer,   Mobile Developer, Full-Stack Web Developer,   Front-End Web Developer,   User Experience Designer                                                                                                                                                         0.000143\n",
       "  Front-End Web Developer,   DevOps / SysAdmin,   Mobile Developer, Full-Stack Web Developer                                                                                                                                                                                0.000143\n",
       "Full-Stack Web Developer, Back-End Web Developer, Data Engineer, Game Developer,   Front-End Web Developer,   Data Scientist                                                                                                                                                0.000143\n",
       "Back-End Web Developer,   Front-End Web Developer, Information Security, Full-Stack Web Developer,   User Experience Designer, Data Engineer                                                                                                                                0.000143\n",
       "  Quality Assurance Engineer,   Product Manager,   User Experience Designer, Full-Stack Web Developer, Game Developer,   Front-End Web Developer,   Mobile Developer, Back-End Web Developer                                                                                0.000143\n",
       "Data Engineer,   Data Scientist,   Mobile Developer, Full-Stack Web Developer                                                                                                                                                                                               0.000143\n",
       "Data Engineer,   Quality Assurance Engineer, Information Security,   Data Scientist                                                                                                                                                                                         0.000143\n",
       "Information Security,   Data Scientist, Data Engineer,   Mobile Developer, Full-Stack Web Developer, Game Developer                                                                                                                                                         0.000143\n",
       "Information Security,   User Experience Designer, Full-Stack Web Developer,   Data Scientist, Back-End Web Developer, Game Developer,   Front-End Web Developer, Data Engineer,   Mobile Developer,   Product Manager                                                       0.000143\n",
       "  Data Scientist,   Front-End Web Developer, Back-End Web Developer, Data Engineer                                                                                                                                                                                          0.000143\n",
       "  Product Manager, Full-Stack Web Developer,   Mobile Developer,   User Experience Designer, Data Engineer,   Front-End Web Developer,   Data Scientist, Information Security, Game Developer,   DevOps / SysAdmin, Back-End Web Developer,   Quality Assurance Engineer    0.000143\n",
       "Full-Stack Web Developer,   Front-End Web Developer,   Data Scientist, Back-End Web Developer,   User Experience Designer,   Mobile Developer, Data Engineer                                                                                                                0.000143\n",
       "  Mobile Developer,   Front-End Web Developer, Data Engineer, Back-End Web Developer, Information Security,   Quality Assurance Engineer                                                                                                                                    0.000143\n",
       "  Front-End Web Developer,   Quality Assurance Engineer, Full-Stack Web Developer,   Mobile Developer                                                                                                                                                                       0.000143\n",
       "Back-End Web Developer,   Mobile Developer,   User Experience Designer,   Data Scientist,   Front-End Web Developer, Game Developer, Full-Stack Web Developer,   Product Manager                                                                                            0.000143\n",
       "Desktop Applications                                                                                                                                                                                                                                                        0.000143\n",
       "Back-End Web Developer,   Front-End Web Developer,   Mobile Developer, Game Developer,   User Experience Designer, Full-Stack Web Developer                                                                                                                                 0.000143\n",
       "  Product Manager, Information Security, Back-End Web Developer,   DevOps / SysAdmin                                                                                                                                                                                        0.000143\n",
       "Information Security, Data Engineer, Back-End Web Developer, Full-Stack Web Developer,   Product Manager,   Data Scientist                                                                                                                                                  0.000143\n",
       "  Mobile Developer, Data Engineer,   Data Scientist                                                                                                                                                                                                                         0.000143\n",
       "  Mobile Developer,   Front-End Web Developer,   Data Scientist,   User Experience Designer, Full-Stack Web Developer                                                                                                                                                       0.000143\n",
       "  DevOps / SysAdmin, Back-End Web Developer,   Front-End Web Developer, Full-Stack Web Developer, Information Security                                                                                                                                                      0.000143\n",
       "Game Developer, Data Engineer, Back-End Web Developer, Full-Stack Web Developer,   Front-End Web Developer,   User Experience Designer,   Data Scientist                                                                                                                    0.000143\n",
       "Game Developer,   User Experience Designer,   Front-End Web Developer,   Mobile Developer, Full-Stack Web Developer                                                                                                                                                         0.000143\n",
       "  DevOps / SysAdmin,   Front-End Web Developer, Full-Stack Web Developer, Back-End Web Developer, Game Developer                                                                                                                                                            0.000143\n",
       "  Mobile Developer, Full-Stack Web Developer,   User Experience Designer,   Product Manager,   Front-End Web Developer, Back-End Web Developer                                                                                                                              0.000143\n",
       "  DevOps / SysAdmin, Data Engineer, Game Developer,   Mobile Developer,   Data Scientist                                                                                                                                                                                    0.000143\n",
       "Game Developer, Full-Stack Web Developer, Information Security,   Data Scientist,   Mobile Developer,   Front-End Web Developer                                                                                                                                             0.000143\n",
       "Name: JobRoleInterest, Length: 3213, dtype: float64"
      ]
     },
     "execution_count": 11,
     "metadata": {},
     "output_type": "execute_result"
    }
   ],
   "source": [
    "job_role_interest.value_counts(dropna=False, normalize=True)"
   ]
  },
  {
   "cell_type": "code",
   "execution_count": 12,
   "metadata": {
    "collapsed": false
   },
   "outputs": [
    {
     "data": {
      "text/plain": [
       "0.8260869565217391"
      ]
     },
     "execution_count": 12,
     "metadata": {},
     "output_type": "execute_result"
    }
   ],
   "source": [
    "jri_web=(job_role_interest.loc[job_role_interest.str.contains(\"[Ww]eb Developer\")].shape[0])/job_role_interest.shape[0]\n",
    "jri_web"
   ]
  },
  {
   "cell_type": "markdown",
   "metadata": {},
   "source": [
    "ca. 83% der gültigen Antworten interessieren sich für \"Web Development\""
   ]
  },
  {
   "cell_type": "code",
   "execution_count": 13,
   "metadata": {
    "collapsed": false
   },
   "outputs": [
    {
     "data": {
      "text/plain": [
       "0.329662471395881"
      ]
     },
     "execution_count": 13,
     "metadata": {},
     "output_type": "execute_result"
    }
   ],
   "source": [
    "jri_mobile=job_role_interest.loc[job_role_interest.str.contains(\"[Mm]obile\")].shape[0]/job_role_interest.shape[0]\n",
    "jri_mobile"
   ]
  },
  {
   "cell_type": "code",
   "execution_count": 14,
   "metadata": {
    "collapsed": false
   },
   "outputs": [
    {
     "data": {
      "text/plain": [
       "0.2931922196796339"
      ]
     },
     "execution_count": 14,
     "metadata": {},
     "output_type": "execute_result"
    }
   ],
   "source": [
    "jri_both=job_role_interest.loc[(job_role_interest.str.contains(\"[Mm]obile\")) & (job_role_interest.str.contains(\"[Ww]eb Developer\"))].shape[0]/job_role_interest.shape[0]\n",
    "jri_both"
   ]
  },
  {
   "cell_type": "code",
   "execution_count": 15,
   "metadata": {
    "collapsed": false
   },
   "outputs": [
    {
     "data": {
      "text/plain": [
       "0.13744279176201374"
      ]
     },
     "execution_count": 15,
     "metadata": {},
     "output_type": "execute_result"
    }
   ],
   "source": [
    "jri_none=job_role_interest.loc[~(job_role_interest.str.contains(\"[Mm]obile\")) & ~(job_role_interest.str.contains(\"[Ww]eb Developer\"))].shape[0]/job_role_interest.shape[0]\n",
    "jri_none"
   ]
  },
  {
   "cell_type": "markdown",
   "metadata": {},
   "source": [
    "- Multiple Antworten sind möglich.\n",
    "- Die meisten Teilnehmer haben Interesse an mehr als einem Feld\n",
    "- Ca. 83% der Teilnehmer interessieren sich für Web Dev, ca. 33% für Mobile Dev., ca. 29% interessieren sich für beides. Insgesamt nur ca. 14% interessieren sich für keines von beiden Feldern (-> nicht unserer Zielgruppe).\n",
    "\n",
    "Das bedeutet, dass die Umfrage unsere Zielgruppe zu einem großen Teil abdeckt (zumindest unter der Annahme, dass die Antworten trotz ca. 2/3 Nicht-Ausfüller repräsentativ ist)"
   ]
  },
  {
   "cell_type": "code",
   "execution_count": 16,
   "metadata": {
    "collapsed": true
   },
   "outputs": [],
   "source": [
    "import matplotlib.pyplot as plt"
   ]
  },
  {
   "cell_type": "code",
   "execution_count": 17,
   "metadata": {
    "collapsed": false
   },
   "outputs": [
    {
     "data": {
      "image/png": "[encoded data removed]",
      "text/plain": [
       "<matplotlib.figure.Figure at 0x7f72e7076fd0>"
      ]
     },
     "metadata": {},
     "output_type": "display_data"
    }
   ],
   "source": [
    "pie_data=[jri_web,jri_mobile,jri_both,jri_none]\n",
    "\n",
    "%matplotlib inline\n",
    "\n",
    "plt.figure(figsize=(7,7))\n",
    "plt.pie(pie_data,autopct=\"%.2f%%\",textprops={'fontsize': 12},labels=[\".. mindestens Web Development\",\".. mindestens Mobile Development\",\".. beidem\",\".. keinem von beiden\"])\n",
    "plt.title(\"Von allen Teilnehmern hatten Interesse an ..\")\n",
    "\n",
    "plt.show()"
   ]
  },
  {
   "cell_type": "markdown",
   "metadata": {},
   "source": [
    "Now that we found out that the sample has the right categories of people for our purpose, we can begin analyzing it. We can start with finding out where these new coders are located, and what are the densities (how many coderes there are) for each location."
   ]
  },
  {
   "cell_type": "markdown",
   "metadata": {},
   "source": [
    "To make sure you're working with a representative sample, drop all the rows where participants didn't answer what role they are interested in"
   ]
  },
  {
   "cell_type": "code",
   "execution_count": 18,
   "metadata": {
    "collapsed": false
   },
   "outputs": [],
   "source": [
    "data.dropna(inplace=True, subset=[\"JobRoleInterest\"])"
   ]
  },
  {
   "cell_type": "code",
   "execution_count": 19,
   "metadata": {
    "collapsed": false
   },
   "outputs": [
    {
     "data": {
      "text/plain": [
       "(6992, 136)"
      ]
     },
     "execution_count": 19,
     "metadata": {},
     "output_type": "execute_result"
    }
   ],
   "source": [
    "data.shape"
   ]
  },
  {
   "cell_type": "markdown",
   "metadata": {},
   "source": [
    "Dies hat über 7000 Rows aus dem Datensatz entfernt. Dies entspricht den oben ermittelten ~62% NaN Antworten."
   ]
  },
  {
   "cell_type": "code",
   "execution_count": 20,
   "metadata": {
    "collapsed": false
   },
   "outputs": [
    {
     "data": {
      "text/plain": [
       "United States of America         3125\n",
       "India                             528\n",
       "United Kingdom                    315\n",
       "Canada                            260\n",
       "Poland                            131\n",
       "Brazil                            129\n",
       "Germany                           125\n",
       "Australia                         112\n",
       "Russia                            102\n",
       "Ukraine                            89\n",
       "Nigeria                            84\n",
       "Spain                              77\n",
       "France                             75\n",
       "Romania                            71\n",
       "Netherlands (Holland, Europe)      65\n",
       "Italy                              62\n",
       "Serbia                             52\n",
       "Philippines                        52\n",
       "Greece                             46\n",
       "Ireland                            43\n",
       "South Africa                       39\n",
       "Mexico                             37\n",
       "Turkey                             36\n",
       "Singapore                          34\n",
       "Hungary                            34\n",
       "New Zealand                        33\n",
       "Argentina                          32\n",
       "Croatia                            32\n",
       "Indonesia                          31\n",
       "Norway                             31\n",
       "                                 ... \n",
       "Cayman Islands                      1\n",
       "Somalia                             1\n",
       "Guadeloupe                          1\n",
       "Liberia                             1\n",
       "Cuba                                1\n",
       "Nambia                              1\n",
       "Myanmar                             1\n",
       "Cameroon                            1\n",
       "Rwanda                              1\n",
       "Turkmenistan                        1\n",
       "Mozambique                          1\n",
       "Anguilla                            1\n",
       "Samoa                               1\n",
       "Qatar                               1\n",
       "Vanuatu                             1\n",
       "Sudan                               1\n",
       "Trinidad & Tobago                   1\n",
       "Aruba                               1\n",
       "Papua New Guinea                    1\n",
       "Jordan                              1\n",
       "Kyrgyzstan                          1\n",
       "Angola                              1\n",
       "Botswana                            1\n",
       "Gibraltar                           1\n",
       "Yemen                               1\n",
       "Guatemala                           1\n",
       "Bolivia                             1\n",
       "Gambia                              1\n",
       "Channel Islands                     1\n",
       "Nicaragua                           1\n",
       "Name: CountryLive, Length: 137, dtype: int64"
      ]
     },
     "execution_count": 20,
     "metadata": {},
     "output_type": "execute_result"
    }
   ],
   "source": [
    "data[\"CountryLive\"].value_counts()"
   ]
  },
  {
   "cell_type": "code",
   "execution_count": 21,
   "metadata": {
    "collapsed": false
   },
   "outputs": [
    {
     "data": {
      "text/plain": [
       "United States of America         0.457005\n",
       "India                            0.077216\n",
       "United Kingdom                   0.046066\n",
       "Canada                           0.038023\n",
       "Poland                           0.019158\n",
       "Brazil                           0.018865\n",
       "Germany                          0.018280\n",
       "Australia                        0.016379\n",
       "Russia                           0.014917\n",
       "Ukraine                          0.013016\n",
       "Nigeria                          0.012284\n",
       "Spain                            0.011261\n",
       "France                           0.010968\n",
       "Romania                          0.010383\n",
       "Netherlands (Holland, Europe)    0.009506\n",
       "Italy                            0.009067\n",
       "Serbia                           0.007605\n",
       "Philippines                      0.007605\n",
       "Greece                           0.006727\n",
       "Ireland                          0.006288\n",
       "South Africa                     0.005703\n",
       "Mexico                           0.005411\n",
       "Turkey                           0.005265\n",
       "Singapore                        0.004972\n",
       "Hungary                          0.004972\n",
       "New Zealand                      0.004826\n",
       "Argentina                        0.004680\n",
       "Croatia                          0.004680\n",
       "Indonesia                        0.004533\n",
       "Norway                           0.004533\n",
       "                                   ...   \n",
       "Cayman Islands                   0.000146\n",
       "Somalia                          0.000146\n",
       "Guadeloupe                       0.000146\n",
       "Liberia                          0.000146\n",
       "Cuba                             0.000146\n",
       "Nambia                           0.000146\n",
       "Myanmar                          0.000146\n",
       "Cameroon                         0.000146\n",
       "Rwanda                           0.000146\n",
       "Turkmenistan                     0.000146\n",
       "Mozambique                       0.000146\n",
       "Anguilla                         0.000146\n",
       "Samoa                            0.000146\n",
       "Qatar                            0.000146\n",
       "Vanuatu                          0.000146\n",
       "Sudan                            0.000146\n",
       "Trinidad & Tobago                0.000146\n",
       "Aruba                            0.000146\n",
       "Papua New Guinea                 0.000146\n",
       "Jordan                           0.000146\n",
       "Kyrgyzstan                       0.000146\n",
       "Angola                           0.000146\n",
       "Botswana                         0.000146\n",
       "Gibraltar                        0.000146\n",
       "Yemen                            0.000146\n",
       "Guatemala                        0.000146\n",
       "Bolivia                          0.000146\n",
       "Gambia                           0.000146\n",
       "Channel Islands                  0.000146\n",
       "Nicaragua                        0.000146\n",
       "Name: CountryLive, Length: 137, dtype: float64"
      ]
     },
     "execution_count": 21,
     "metadata": {},
     "output_type": "execute_result"
    }
   ],
   "source": [
    "data[\"CountryLive\"].value_counts(normalize=True)"
   ]
  },
  {
   "cell_type": "markdown",
   "metadata": {},
   "source": [
    "Der mit Abstand größte Markt stellen die vereinigten Staaten dar. Mit deutlichem Abstand folgen Indien (~1/6), Großbritannien und Kanada. Sinnvolle Märkte, insbesondere durch die hohe Anzahl englischsprachiger Teilnehmer. Dies sagt allerdings noch nichts darüber aus, ob auch diese Teilnehmer zu unserer potenziellen Zielgruppe gehören (Web & Mobile Development)"
   ]
  },
  {
   "cell_type": "markdown",
   "metadata": {},
   "source": [
    " We can continue by figuring out how much money new coders are actually willing to spend on learning. Advertising within markets where most people are only willing to learn for free is extremely unlikely to be profitable for us.\n",
    " \n",
    "Our company sells subscriptions at a price of $59 per month, and for this reason we're interested in finding out how much money each student spends per month."
   ]
  },
  {
   "cell_type": "code",
   "execution_count": 22,
   "metadata": {
    "collapsed": false
   },
   "outputs": [
    {
     "data": {
      "text/plain": [
       "dtype('float64')"
      ]
     },
     "execution_count": 22,
     "metadata": {},
     "output_type": "execute_result"
    }
   ],
   "source": [
    "data[\"MonthsProgramming\"].dtype"
   ]
  },
  {
   "cell_type": "code",
   "execution_count": 23,
   "metadata": {
    "collapsed": false
   },
   "outputs": [
    {
     "data": {
      "text/plain": [
       "1.0    767\n",
       "0.0    235\n",
       "Name: MonthsProgramming, dtype: int64"
      ]
     },
     "execution_count": 23,
     "metadata": {},
     "output_type": "execute_result"
    }
   ],
   "source": [
    "data.loc[(data[\"MonthsProgramming\"]==1)|(data[\"MonthsProgramming\"]==0),\"MonthsProgramming\"].value_counts()"
   ]
  },
  {
   "cell_type": "code",
   "execution_count": 24,
   "metadata": {
    "collapsed": false
   },
   "outputs": [],
   "source": [
    "data[\"MonthsProgramming\"].replace(to_replace=0, value=1, inplace=True)"
   ]
  },
  {
   "cell_type": "code",
   "execution_count": 25,
   "metadata": {
    "collapsed": false
   },
   "outputs": [
    {
     "data": {
      "text/plain": [
       "1.0    1002\n",
       "Name: MonthsProgramming, dtype: int64"
      ]
     },
     "execution_count": 25,
     "metadata": {},
     "output_type": "execute_result"
    }
   ],
   "source": [
    "data.loc[data[\"MonthsProgramming\"]==1,\"MonthsProgramming\"].value_counts()"
   ]
  },
  {
   "cell_type": "code",
   "execution_count": 26,
   "metadata": {
    "collapsed": true
   },
   "outputs": [],
   "source": [
    "data[\"SpendPerMonth\"]=data[\"MoneyForLearning\"]/data[\"MonthsProgramming\"]"
   ]
  },
  {
   "cell_type": "code",
   "execution_count": null,
   "metadata": {
    "collapsed": false
   },
   "outputs": [],
   "source": []
  },
  {
   "cell_type": "markdown",
   "metadata": {},
   "source": [
    "675 Teilnehmer haben keinen Wert in dieser Spalte. Für die weitere Analyse werden diese entfernt."
   ]
  },
  {
   "cell_type": "code",
   "execution_count": 27,
   "metadata": {
    "collapsed": false
   },
   "outputs": [],
   "source": [
    "data.dropna(subset=[\"SpendPerMonth\"],inplace=True)"
   ]
  },
  {
   "cell_type": "code",
   "execution_count": 28,
   "metadata": {
    "collapsed": false
   },
   "outputs": [
    {
     "data": {
      "text/plain": [
       "0"
      ]
     },
     "execution_count": 28,
     "metadata": {},
     "output_type": "execute_result"
    }
   ],
   "source": [
    "data[\"SpendPerMonth\"].isnull().sum()"
   ]
  },
  {
   "cell_type": "code",
   "execution_count": 29,
   "metadata": {
    "collapsed": false
   },
   "outputs": [
    {
     "data": {
      "text/plain": [
       "105"
      ]
     },
     "execution_count": 29,
     "metadata": {},
     "output_type": "execute_result"
    }
   ],
   "source": [
    "data[\"CountryLive\"].isnull().sum()"
   ]
  },
  {
   "cell_type": "code",
   "execution_count": 30,
   "metadata": {
    "collapsed": false
   },
   "outputs": [
    {
     "data": {
      "text/plain": [
       "0"
      ]
     },
     "execution_count": 30,
     "metadata": {},
     "output_type": "execute_result"
    }
   ],
   "source": [
    "data.dropna(subset=[\"CountryLive\"],inplace=True)\n",
    "data[\"CountryLive\"].isnull().sum()"
   ]
  },
  {
   "cell_type": "code",
   "execution_count": 31,
   "metadata": {
    "collapsed": false
   },
   "outputs": [
    {
     "data": {
      "text/html": [
       "<div>\n",
       "<style scoped>\n",
       "    .dataframe tbody tr th:only-of-type {\n",
       "        vertical-align: middle;\n",
       "    }\n",
       "\n",
       "    .dataframe tbody tr th {\n",
       "        vertical-align: top;\n",
       "    }\n",
       "\n",
       "    .dataframe thead th {\n",
       "        text-align: right;\n",
       "    }\n",
       "</style>\n",
       "<table border=\"1\" class=\"dataframe\">\n",
       "  <thead>\n",
       "    <tr style=\"text-align: right;\">\n",
       "      <th></th>\n",
       "      <th>SpendPerMonth</th>\n",
       "    </tr>\n",
       "    <tr>\n",
       "      <th>CountryLive</th>\n",
       "      <th></th>\n",
       "    </tr>\n",
       "  </thead>\n",
       "  <tbody>\n",
       "    <tr>\n",
       "      <th>United States of America</th>\n",
       "      <td>227.997996</td>\n",
       "    </tr>\n",
       "    <tr>\n",
       "      <th>India</th>\n",
       "      <td>135.100982</td>\n",
       "    </tr>\n",
       "    <tr>\n",
       "      <th>United Kingdom</th>\n",
       "      <td>45.534443</td>\n",
       "    </tr>\n",
       "    <tr>\n",
       "      <th>Canada</th>\n",
       "      <td>113.510961</td>\n",
       "    </tr>\n",
       "  </tbody>\n",
       "</table>\n",
       "</div>"
      ],
      "text/plain": [
       "                          SpendPerMonth\n",
       "CountryLive                            \n",
       "United States of America     227.997996\n",
       "India                        135.100982\n",
       "United Kingdom                45.534443\n",
       "Canada                       113.510961"
      ]
     },
     "execution_count": 31,
     "metadata": {},
     "output_type": "execute_result"
    }
   ],
   "source": [
    "data[[\"CountryLive\",\"SpendPerMonth\"]].groupby(by=\"CountryLive\").mean().loc[[\"United States of America\",\"India\",\"United Kingdom\",\"Canada\"]]"
   ]
  },
  {
   "cell_type": "code",
   "execution_count": 32,
   "metadata": {
    "collapsed": false
   },
   "outputs": [
    {
     "data": {
      "text/html": [
       "<div>\n",
       "<style scoped>\n",
       "    .dataframe tbody tr th:only-of-type {\n",
       "        vertical-align: middle;\n",
       "    }\n",
       "\n",
       "    .dataframe tbody tr th {\n",
       "        vertical-align: top;\n",
       "    }\n",
       "\n",
       "    .dataframe thead th {\n",
       "        text-align: right;\n",
       "    }\n",
       "</style>\n",
       "<table border=\"1\" class=\"dataframe\">\n",
       "  <thead>\n",
       "    <tr style=\"text-align: right;\">\n",
       "      <th></th>\n",
       "      <th>SpendPerMonth</th>\n",
       "    </tr>\n",
       "    <tr>\n",
       "      <th>CountryLive</th>\n",
       "      <th></th>\n",
       "    </tr>\n",
       "  </thead>\n",
       "  <tbody>\n",
       "    <tr>\n",
       "      <th>United States of America</th>\n",
       "      <td>3.333333</td>\n",
       "    </tr>\n",
       "    <tr>\n",
       "      <th>India</th>\n",
       "      <td>0.000000</td>\n",
       "    </tr>\n",
       "    <tr>\n",
       "      <th>United Kingdom</th>\n",
       "      <td>0.000000</td>\n",
       "    </tr>\n",
       "    <tr>\n",
       "      <th>Canada</th>\n",
       "      <td>0.000000</td>\n",
       "    </tr>\n",
       "  </tbody>\n",
       "</table>\n",
       "</div>"
      ],
      "text/plain": [
       "                          SpendPerMonth\n",
       "CountryLive                            \n",
       "United States of America       3.333333\n",
       "India                          0.000000\n",
       "United Kingdom                 0.000000\n",
       "Canada                         0.000000"
      ]
     },
     "execution_count": 32,
     "metadata": {},
     "output_type": "execute_result"
    }
   ],
   "source": [
    "data[[\"CountryLive\",\"SpendPerMonth\"]].groupby(by=\"CountryLive\").median().loc[[\"United States of America\",\"India\",\"United Kingdom\",\"Canada\"]]"
   ]
  },
  {
   "cell_type": "markdown",
   "metadata": {},
   "source": [
    "Die Ergebnisse fallen sehr unterschiedlich aus. Die Ausgaben sind bei Teilnehmern aus den USA im Mittelwert deutlich höher als bei allen anderen Teilnehmern. Außerdem sind die Ausgaben für Indien kontraintuitiv hoch und für Großbritannien niedrig. Die Verteilung des Medians zeigt, dass die Verteilung der Ausgaben wohl äußerst rechtssteil ist. Deshalb besitzt der Mittelwert nur eine dürftige Aussagekraft"
   ]
  },
  {
   "cell_type": "code",
   "execution_count": 33,
   "metadata": {
    "collapsed": false
   },
   "outputs": [
    {
     "data": {
      "text/html": [
       "<div>\n",
       "<style scoped>\n",
       "    .dataframe tbody tr th:only-of-type {\n",
       "        vertical-align: middle;\n",
       "    }\n",
       "\n",
       "    .dataframe tbody tr th {\n",
       "        vertical-align: top;\n",
       "    }\n",
       "\n",
       "    .dataframe thead th {\n",
       "        text-align: right;\n",
       "    }\n",
       "</style>\n",
       "<table border=\"1\" class=\"dataframe\">\n",
       "  <thead>\n",
       "    <tr style=\"text-align: right;\">\n",
       "      <th></th>\n",
       "      <th>CountryLive</th>\n",
       "      <th>SpendPerMonth</th>\n",
       "    </tr>\n",
       "  </thead>\n",
       "  <tbody>\n",
       "    <tr>\n",
       "      <th>1</th>\n",
       "      <td>United States of America</td>\n",
       "      <td>13.333333</td>\n",
       "    </tr>\n",
       "    <tr>\n",
       "      <th>2</th>\n",
       "      <td>United States of America</td>\n",
       "      <td>200.000000</td>\n",
       "    </tr>\n",
       "    <tr>\n",
       "      <th>6</th>\n",
       "      <td>United Kingdom</td>\n",
       "      <td>0.000000</td>\n",
       "    </tr>\n",
       "    <tr>\n",
       "      <th>15</th>\n",
       "      <td>United States of America</td>\n",
       "      <td>0.000000</td>\n",
       "    </tr>\n",
       "    <tr>\n",
       "      <th>16</th>\n",
       "      <td>United States of America</td>\n",
       "      <td>16.666667</td>\n",
       "    </tr>\n",
       "    <tr>\n",
       "      <th>18</th>\n",
       "      <td>United States of America</td>\n",
       "      <td>35.714286</td>\n",
       "    </tr>\n",
       "    <tr>\n",
       "      <th>19</th>\n",
       "      <td>United States of America</td>\n",
       "      <td>17.857143</td>\n",
       "    </tr>\n",
       "    <tr>\n",
       "      <th>21</th>\n",
       "      <td>United States of America</td>\n",
       "      <td>100.000000</td>\n",
       "    </tr>\n",
       "    <tr>\n",
       "      <th>22</th>\n",
       "      <td>United Kingdom</td>\n",
       "      <td>285.714286</td>\n",
       "    </tr>\n",
       "    <tr>\n",
       "      <th>23</th>\n",
       "      <td>United States of America</td>\n",
       "      <td>100.000000</td>\n",
       "    </tr>\n",
       "    <tr>\n",
       "      <th>28</th>\n",
       "      <td>United States of America</td>\n",
       "      <td>2.416667</td>\n",
       "    </tr>\n",
       "    <tr>\n",
       "      <th>30</th>\n",
       "      <td>United States of America</td>\n",
       "      <td>66.666667</td>\n",
       "    </tr>\n",
       "    <tr>\n",
       "      <th>31</th>\n",
       "      <td>United States of America</td>\n",
       "      <td>0.000000</td>\n",
       "    </tr>\n",
       "    <tr>\n",
       "      <th>32</th>\n",
       "      <td>United States of America</td>\n",
       "      <td>100.000000</td>\n",
       "    </tr>\n",
       "    <tr>\n",
       "      <th>33</th>\n",
       "      <td>United States of America</td>\n",
       "      <td>83.333333</td>\n",
       "    </tr>\n",
       "    <tr>\n",
       "      <th>35</th>\n",
       "      <td>United States of America</td>\n",
       "      <td>0.000000</td>\n",
       "    </tr>\n",
       "    <tr>\n",
       "      <th>40</th>\n",
       "      <td>United States of America</td>\n",
       "      <td>25.000000</td>\n",
       "    </tr>\n",
       "    <tr>\n",
       "      <th>42</th>\n",
       "      <td>United States of America</td>\n",
       "      <td>50.000000</td>\n",
       "    </tr>\n",
       "    <tr>\n",
       "      <th>52</th>\n",
       "      <td>India</td>\n",
       "      <td>0.000000</td>\n",
       "    </tr>\n",
       "    <tr>\n",
       "      <th>55</th>\n",
       "      <td>Canada</td>\n",
       "      <td>0.000000</td>\n",
       "    </tr>\n",
       "    <tr>\n",
       "      <th>58</th>\n",
       "      <td>India</td>\n",
       "      <td>0.000000</td>\n",
       "    </tr>\n",
       "    <tr>\n",
       "      <th>63</th>\n",
       "      <td>United States of America</td>\n",
       "      <td>16.666667</td>\n",
       "    </tr>\n",
       "    <tr>\n",
       "      <th>64</th>\n",
       "      <td>Canada</td>\n",
       "      <td>50.000000</td>\n",
       "    </tr>\n",
       "    <tr>\n",
       "      <th>66</th>\n",
       "      <td>United States of America</td>\n",
       "      <td>2.777778</td>\n",
       "    </tr>\n",
       "    <tr>\n",
       "      <th>67</th>\n",
       "      <td>United States of America</td>\n",
       "      <td>1.785714</td>\n",
       "    </tr>\n",
       "    <tr>\n",
       "      <th>68</th>\n",
       "      <td>United States of America</td>\n",
       "      <td>357.142857</td>\n",
       "    </tr>\n",
       "    <tr>\n",
       "      <th>70</th>\n",
       "      <td>United States of America</td>\n",
       "      <td>50.000000</td>\n",
       "    </tr>\n",
       "    <tr>\n",
       "      <th>84</th>\n",
       "      <td>United States of America</td>\n",
       "      <td>16.666667</td>\n",
       "    </tr>\n",
       "    <tr>\n",
       "      <th>89</th>\n",
       "      <td>Canada</td>\n",
       "      <td>1.052632</td>\n",
       "    </tr>\n",
       "    <tr>\n",
       "      <th>97</th>\n",
       "      <td>United States of America</td>\n",
       "      <td>166.666667</td>\n",
       "    </tr>\n",
       "    <tr>\n",
       "      <th>...</th>\n",
       "      <td>...</td>\n",
       "      <td>...</td>\n",
       "    </tr>\n",
       "    <tr>\n",
       "      <th>17979</th>\n",
       "      <td>United States of America</td>\n",
       "      <td>0.000000</td>\n",
       "    </tr>\n",
       "    <tr>\n",
       "      <th>17980</th>\n",
       "      <td>United States of America</td>\n",
       "      <td>0.000000</td>\n",
       "    </tr>\n",
       "    <tr>\n",
       "      <th>17981</th>\n",
       "      <td>United States of America</td>\n",
       "      <td>0.000000</td>\n",
       "    </tr>\n",
       "    <tr>\n",
       "      <th>17987</th>\n",
       "      <td>United States of America</td>\n",
       "      <td>0.000000</td>\n",
       "    </tr>\n",
       "    <tr>\n",
       "      <th>17991</th>\n",
       "      <td>United States of America</td>\n",
       "      <td>0.000000</td>\n",
       "    </tr>\n",
       "    <tr>\n",
       "      <th>17995</th>\n",
       "      <td>United States of America</td>\n",
       "      <td>0.000000</td>\n",
       "    </tr>\n",
       "    <tr>\n",
       "      <th>17996</th>\n",
       "      <td>United States of America</td>\n",
       "      <td>0.000000</td>\n",
       "    </tr>\n",
       "    <tr>\n",
       "      <th>18000</th>\n",
       "      <td>United States of America</td>\n",
       "      <td>10.416667</td>\n",
       "    </tr>\n",
       "    <tr>\n",
       "      <th>18003</th>\n",
       "      <td>United States of America</td>\n",
       "      <td>25.000000</td>\n",
       "    </tr>\n",
       "    <tr>\n",
       "      <th>18006</th>\n",
       "      <td>Canada</td>\n",
       "      <td>14.285714</td>\n",
       "    </tr>\n",
       "    <tr>\n",
       "      <th>18007</th>\n",
       "      <td>United States of America</td>\n",
       "      <td>0.000000</td>\n",
       "    </tr>\n",
       "    <tr>\n",
       "      <th>18014</th>\n",
       "      <td>United States of America</td>\n",
       "      <td>0.000000</td>\n",
       "    </tr>\n",
       "    <tr>\n",
       "      <th>18015</th>\n",
       "      <td>United States of America</td>\n",
       "      <td>5.555556</td>\n",
       "    </tr>\n",
       "    <tr>\n",
       "      <th>18017</th>\n",
       "      <td>United States of America</td>\n",
       "      <td>0.000000</td>\n",
       "    </tr>\n",
       "    <tr>\n",
       "      <th>18020</th>\n",
       "      <td>United States of America</td>\n",
       "      <td>0.000000</td>\n",
       "    </tr>\n",
       "    <tr>\n",
       "      <th>18037</th>\n",
       "      <td>United States of America</td>\n",
       "      <td>83.333333</td>\n",
       "    </tr>\n",
       "    <tr>\n",
       "      <th>18039</th>\n",
       "      <td>United States of America</td>\n",
       "      <td>10.000000</td>\n",
       "    </tr>\n",
       "    <tr>\n",
       "      <th>18041</th>\n",
       "      <td>Canada</td>\n",
       "      <td>13.888889</td>\n",
       "    </tr>\n",
       "    <tr>\n",
       "      <th>18043</th>\n",
       "      <td>United States of America</td>\n",
       "      <td>0.000000</td>\n",
       "    </tr>\n",
       "    <tr>\n",
       "      <th>18044</th>\n",
       "      <td>United States of America</td>\n",
       "      <td>0.000000</td>\n",
       "    </tr>\n",
       "    <tr>\n",
       "      <th>18049</th>\n",
       "      <td>United States of America</td>\n",
       "      <td>0.000000</td>\n",
       "    </tr>\n",
       "    <tr>\n",
       "      <th>18050</th>\n",
       "      <td>United States of America</td>\n",
       "      <td>16.666667</td>\n",
       "    </tr>\n",
       "    <tr>\n",
       "      <th>18069</th>\n",
       "      <td>United States of America</td>\n",
       "      <td>0.000000</td>\n",
       "    </tr>\n",
       "    <tr>\n",
       "      <th>18071</th>\n",
       "      <td>United States of America</td>\n",
       "      <td>7.500000</td>\n",
       "    </tr>\n",
       "    <tr>\n",
       "      <th>18093</th>\n",
       "      <td>United States of America</td>\n",
       "      <td>27.777778</td>\n",
       "    </tr>\n",
       "    <tr>\n",
       "      <th>18107</th>\n",
       "      <td>India</td>\n",
       "      <td>275.000000</td>\n",
       "    </tr>\n",
       "    <tr>\n",
       "      <th>18111</th>\n",
       "      <td>India</td>\n",
       "      <td>200.000000</td>\n",
       "    </tr>\n",
       "    <tr>\n",
       "      <th>18113</th>\n",
       "      <td>United States of America</td>\n",
       "      <td>0.000000</td>\n",
       "    </tr>\n",
       "    <tr>\n",
       "      <th>18130</th>\n",
       "      <td>United States of America</td>\n",
       "      <td>0.000000</td>\n",
       "    </tr>\n",
       "    <tr>\n",
       "      <th>18156</th>\n",
       "      <td>India</td>\n",
       "      <td>1000.000000</td>\n",
       "    </tr>\n",
       "  </tbody>\n",
       "</table>\n",
       "<p>3915 rows × 2 columns</p>\n",
       "</div>"
      ],
      "text/plain": [
       "                    CountryLive  SpendPerMonth\n",
       "1      United States of America      13.333333\n",
       "2      United States of America     200.000000\n",
       "6                United Kingdom       0.000000\n",
       "15     United States of America       0.000000\n",
       "16     United States of America      16.666667\n",
       "18     United States of America      35.714286\n",
       "19     United States of America      17.857143\n",
       "21     United States of America     100.000000\n",
       "22               United Kingdom     285.714286\n",
       "23     United States of America     100.000000\n",
       "28     United States of America       2.416667\n",
       "30     United States of America      66.666667\n",
       "31     United States of America       0.000000\n",
       "32     United States of America     100.000000\n",
       "33     United States of America      83.333333\n",
       "35     United States of America       0.000000\n",
       "40     United States of America      25.000000\n",
       "42     United States of America      50.000000\n",
       "52                        India       0.000000\n",
       "55                       Canada       0.000000\n",
       "58                        India       0.000000\n",
       "63     United States of America      16.666667\n",
       "64                       Canada      50.000000\n",
       "66     United States of America       2.777778\n",
       "67     United States of America       1.785714\n",
       "68     United States of America     357.142857\n",
       "70     United States of America      50.000000\n",
       "84     United States of America      16.666667\n",
       "89                       Canada       1.052632\n",
       "97     United States of America     166.666667\n",
       "...                         ...            ...\n",
       "17979  United States of America       0.000000\n",
       "17980  United States of America       0.000000\n",
       "17981  United States of America       0.000000\n",
       "17987  United States of America       0.000000\n",
       "17991  United States of America       0.000000\n",
       "17995  United States of America       0.000000\n",
       "17996  United States of America       0.000000\n",
       "18000  United States of America      10.416667\n",
       "18003  United States of America      25.000000\n",
       "18006                    Canada      14.285714\n",
       "18007  United States of America       0.000000\n",
       "18014  United States of America       0.000000\n",
       "18015  United States of America       5.555556\n",
       "18017  United States of America       0.000000\n",
       "18020  United States of America       0.000000\n",
       "18037  United States of America      83.333333\n",
       "18039  United States of America      10.000000\n",
       "18041                    Canada      13.888889\n",
       "18043  United States of America       0.000000\n",
       "18044  United States of America       0.000000\n",
       "18049  United States of America       0.000000\n",
       "18050  United States of America      16.666667\n",
       "18069  United States of America       0.000000\n",
       "18071  United States of America       7.500000\n",
       "18093  United States of America      27.777778\n",
       "18107                     India     275.000000\n",
       "18111                     India     200.000000\n",
       "18113  United States of America       0.000000\n",
       "18130  United States of America       0.000000\n",
       "18156                     India    1000.000000\n",
       "\n",
       "[3915 rows x 2 columns]"
      ]
     },
     "execution_count": 33,
     "metadata": {},
     "output_type": "execute_result"
    }
   ],
   "source": [
    "data.loc[data[\"CountryLive\"].isin([\"United States of America\",\"India\",\"United Kingdom\",\"Canada\"]),[\"CountryLive\",\"SpendPerMonth\"]]"
   ]
  },
  {
   "cell_type": "code",
   "execution_count": 34,
   "metadata": {
    "collapsed": false
   },
   "outputs": [
    {
     "data": {
      "text/plain": [
       "0.000000        3040\n",
       "50.000000        123\n",
       "25.000000        119\n",
       "16.666667        117\n",
       "100.000000       117\n",
       "33.333333        107\n",
       "8.333333         104\n",
       "20.000000         85\n",
       "83.333333         79\n",
       "10.000000         79\n",
       "166.666667        67\n",
       "12.500000         65\n",
       "4.166667          64\n",
       "5.000000          62\n",
       "200.000000        50\n",
       "500.000000        50\n",
       "66.666667         46\n",
       "250.000000        44\n",
       "41.666667         44\n",
       "1000.000000       41\n",
       "3.333333          37\n",
       "20.833333         37\n",
       "6.666667          35\n",
       "125.000000        35\n",
       "2.500000          33\n",
       "5.555556          31\n",
       "333.333333        31\n",
       "11.111111         31\n",
       "150.000000        30\n",
       "30.000000         28\n",
       "                ... \n",
       "13.500000          1\n",
       "1.562500           1\n",
       "29.000000          1\n",
       "23.000000          1\n",
       "19.000000          1\n",
       "31.000000          1\n",
       "3.625000           1\n",
       "4.750000           1\n",
       "117.500000         1\n",
       "54.166667          1\n",
       "866.666667         1\n",
       "0.900000           1\n",
       "1.344086           1\n",
       "1670.000000        1\n",
       "4.857143           1\n",
       "122.500000         1\n",
       "370.000000         1\n",
       "1.052632           1\n",
       "1.818182           1\n",
       "3.472222           1\n",
       "2.380952           1\n",
       "1.612903           1\n",
       "7.777778           1\n",
       "26.666667          1\n",
       "17.833333          1\n",
       "3.076923           1\n",
       "10.833333          1\n",
       "30000.000000       1\n",
       "312.500000         1\n",
       "611.111111         1\n",
       "Name: SpendPerMonth, Length: 488, dtype: int64"
      ]
     },
     "execution_count": 34,
     "metadata": {},
     "output_type": "execute_result"
    }
   ],
   "source": [
    "data[\"SpendPerMonth\"].value_counts(dropna=False)"
   ]
  },
  {
   "cell_type": "code",
   "execution_count": 35,
   "metadata": {
    "collapsed": false
   },
   "outputs": [
    {
     "data": {
      "text/plain": [
       "<matplotlib.axes._subplots.AxesSubplot at 0x7f72e34e4f60>"
      ]
     },
     "execution_count": 35,
     "metadata": {},
     "output_type": "execute_result"
    },
    {
     "data": {
      "image/png": "[encoded data removed]",
      "text/plain": [
       "<matplotlib.figure.Figure at 0x7f72e4588908>"
      ]
     },
     "metadata": {},
     "output_type": "display_data"
    }
   ],
   "source": [
    "data.loc[data[\"CountryLive\"]==\"United States of America\",\"SpendPerMonth\"].plot.box(title=\"USA\")"
   ]
  },
  {
   "cell_type": "code",
   "execution_count": 36,
   "metadata": {
    "collapsed": false
   },
   "outputs": [
    {
     "data": {
      "text/plain": [
       "<matplotlib.axes._subplots.AxesSubplot at 0x7f72e46a30f0>"
      ]
     },
     "execution_count": 36,
     "metadata": {},
     "output_type": "execute_result"
    },
    {
     "data": {
      "image/png": "[encoded data removed]",
      "text/plain": [
       "<matplotlib.figure.Figure at 0x7f72e34850f0>"
      ]
     },
     "metadata": {},
     "output_type": "display_data"
    }
   ],
   "source": [
    "data.loc[data[\"CountryLive\"]==\"India\",\"SpendPerMonth\"].plot.box(title=\"India\")"
   ]
  },
  {
   "cell_type": "code",
   "execution_count": 37,
   "metadata": {
    "collapsed": false
   },
   "outputs": [
    {
     "data": {
      "text/plain": [
       "<matplotlib.axes._subplots.AxesSubplot at 0x7f72e345e748>"
      ]
     },
     "execution_count": 37,
     "metadata": {},
     "output_type": "execute_result"
    },
    {
     "data": {
      "image/png": "[encoded data removed]",
      "text/plain": [
       "<matplotlib.figure.Figure at 0x7f72e345a588>"
      ]
     },
     "metadata": {},
     "output_type": "display_data"
    }
   ],
   "source": [
    "data.loc[data[\"CountryLive\"]==\"United Kingdom\",\"SpendPerMonth\"].plot.box(title=\"UK\")"
   ]
  },
  {
   "cell_type": "code",
   "execution_count": 38,
   "metadata": {
    "collapsed": false
   },
   "outputs": [
    {
     "data": {
      "text/plain": [
       "<matplotlib.axes._subplots.AxesSubplot at 0x7f72e3f1f160>"
      ]
     },
     "execution_count": 38,
     "metadata": {},
     "output_type": "execute_result"
    },
    {
     "data": {
      "image/png": "[encoded data removed]",
      "text/plain": [
       "<matplotlib.figure.Figure at 0x7f72e62df9b0>"
      ]
     },
     "metadata": {},
     "output_type": "display_data"
    }
   ],
   "source": [
    "data.loc[data[\"CountryLive\"]==\"Canada\",\"SpendPerMonth\"].plot.box(title=\"Canada\")"
   ]
  },
  {
   "cell_type": "code",
   "execution_count": 39,
   "metadata": {
    "collapsed": false
   },
   "outputs": [
    {
     "name": "stderr",
     "output_type": "stream",
     "text": [
      "/dataquest/system/env/python3/lib/python3.4/site-packages/seaborn/categorical.py:454: FutureWarning:\n",
      "\n",
      "remove_na is deprecated and is a private function. Do not use.\n",
      "\n"
     ]
    },
    {
     "data": {
      "text/plain": [
       "<matplotlib.axes._subplots.AxesSubplot at 0x7f72da45ff98>"
      ]
     },
     "execution_count": 39,
     "metadata": {},
     "output_type": "execute_result"
    },
    {
     "data": {
      "image/png": "[encoded data removed]",
      "text/plain": [
       "<matplotlib.figure.Figure at 0x7f72e403d2e8>"
      ]
     },
     "metadata": {},
     "output_type": "display_data"
    }
   ],
   "source": [
    "import seaborn as sns\n",
    "\n",
    "sns.boxplot(x=\"SpendPerMonth\", y=\"CountryLive\", data=data[data[\"CountryLive\"].str.contains(\n",
    "    'United States of America|India|United Kingdom|Canada')])"
   ]
  },
  {
   "cell_type": "markdown",
   "metadata": {},
   "source": [
    "Zahlreiche Ausreiserwerte, belegen die vermutete rechtssteilheit der Verteilung. Insbesondere für die USA, aber auch Indien hat im Vergleich viele Ausreißer. Zuerst werden die Extremwerte entfernt um ihren Einfluss herauszurechnen."
   ]
  },
  {
   "cell_type": "code",
   "execution_count": 40,
   "metadata": {
    "collapsed": true
   },
   "outputs": [],
   "source": [
    "data=data[data[\"SpendPerMonth\"]<20000]"
   ]
  },
  {
   "cell_type": "code",
   "execution_count": 41,
   "metadata": {
    "collapsed": false
   },
   "outputs": [
    {
     "data": {
      "text/html": [
       "<div>\n",
       "<style scoped>\n",
       "    .dataframe tbody tr th:only-of-type {\n",
       "        vertical-align: middle;\n",
       "    }\n",
       "\n",
       "    .dataframe tbody tr th {\n",
       "        vertical-align: top;\n",
       "    }\n",
       "\n",
       "    .dataframe thead th {\n",
       "        text-align: right;\n",
       "    }\n",
       "</style>\n",
       "<table border=\"1\" class=\"dataframe\">\n",
       "  <thead>\n",
       "    <tr style=\"text-align: right;\">\n",
       "      <th></th>\n",
       "      <th>SpendPerMonth</th>\n",
       "    </tr>\n",
       "    <tr>\n",
       "      <th>CountryLive</th>\n",
       "      <th></th>\n",
       "    </tr>\n",
       "  </thead>\n",
       "  <tbody>\n",
       "    <tr>\n",
       "      <th>United States of America</th>\n",
       "      <td>183.800110</td>\n",
       "    </tr>\n",
       "    <tr>\n",
       "      <th>India</th>\n",
       "      <td>135.100982</td>\n",
       "    </tr>\n",
       "    <tr>\n",
       "      <th>United Kingdom</th>\n",
       "      <td>45.534443</td>\n",
       "    </tr>\n",
       "    <tr>\n",
       "      <th>Canada</th>\n",
       "      <td>113.510961</td>\n",
       "    </tr>\n",
       "  </tbody>\n",
       "</table>\n",
       "</div>"
      ],
      "text/plain": [
       "                          SpendPerMonth\n",
       "CountryLive                            \n",
       "United States of America     183.800110\n",
       "India                        135.100982\n",
       "United Kingdom                45.534443\n",
       "Canada                       113.510961"
      ]
     },
     "execution_count": 41,
     "metadata": {},
     "output_type": "execute_result"
    }
   ],
   "source": [
    "data[[\"CountryLive\",\"SpendPerMonth\"]].groupby(by=\"CountryLive\").mean().loc[[\"United States of America\",\"India\",\"United Kingdom\",\"Canada\"]]"
   ]
  },
  {
   "cell_type": "markdown",
   "metadata": {},
   "source": [
    "Der Durchschnitt in den USA hat sich verringert. Dennoch sind die Durchschnittsausgaben in Indien überraschend hoch."
   ]
  },
  {
   "cell_type": "code",
   "execution_count": 42,
   "metadata": {
    "collapsed": false
   },
   "outputs": [],
   "source": [
    "indian_extreme_spenders=data.loc[(data[\"CountryLive\"]==\"India\")&(data[\"SpendPerMonth\"]>3000)]"
   ]
  },
  {
   "cell_type": "code",
   "execution_count": 43,
   "metadata": {
    "collapsed": false
   },
   "outputs": [
    {
     "data": {
      "text/html": [
       "<div>\n",
       "<style scoped>\n",
       "    .dataframe tbody tr th:only-of-type {\n",
       "        vertical-align: middle;\n",
       "    }\n",
       "\n",
       "    .dataframe tbody tr th {\n",
       "        vertical-align: top;\n",
       "    }\n",
       "\n",
       "    .dataframe thead th {\n",
       "        text-align: right;\n",
       "    }\n",
       "</style>\n",
       "<table border=\"1\" class=\"dataframe\">\n",
       "  <thead>\n",
       "    <tr style=\"text-align: right;\">\n",
       "      <th></th>\n",
       "      <th>Age</th>\n",
       "      <th>AttendedBootcamp</th>\n",
       "      <th>BootcampFinish</th>\n",
       "      <th>BootcampLoanYesNo</th>\n",
       "      <th>BootcampName</th>\n",
       "      <th>BootcampRecommend</th>\n",
       "      <th>ChildrenNumber</th>\n",
       "      <th>CityPopulation</th>\n",
       "      <th>CodeEventConferences</th>\n",
       "      <th>CodeEventDjangoGirls</th>\n",
       "      <th>...</th>\n",
       "      <th>YouTubeFunFunFunction</th>\n",
       "      <th>YouTubeGoogleDev</th>\n",
       "      <th>YouTubeLearnCode</th>\n",
       "      <th>YouTubeLevelUpTuts</th>\n",
       "      <th>YouTubeMIT</th>\n",
       "      <th>YouTubeMozillaHacks</th>\n",
       "      <th>YouTubeOther</th>\n",
       "      <th>YouTubeSimplilearn</th>\n",
       "      <th>YouTubeTheNewBoston</th>\n",
       "      <th>SpendPerMonth</th>\n",
       "    </tr>\n",
       "  </thead>\n",
       "  <tbody>\n",
       "    <tr>\n",
       "      <th>1728</th>\n",
       "      <td>24.0</td>\n",
       "      <td>0.0</td>\n",
       "      <td>NaN</td>\n",
       "      <td>NaN</td>\n",
       "      <td>NaN</td>\n",
       "      <td>NaN</td>\n",
       "      <td>NaN</td>\n",
       "      <td>between 100,000 and 1 million</td>\n",
       "      <td>NaN</td>\n",
       "      <td>NaN</td>\n",
       "      <td>...</td>\n",
       "      <td>NaN</td>\n",
       "      <td>NaN</td>\n",
       "      <td>NaN</td>\n",
       "      <td>NaN</td>\n",
       "      <td>NaN</td>\n",
       "      <td>NaN</td>\n",
       "      <td>NaN</td>\n",
       "      <td>NaN</td>\n",
       "      <td>NaN</td>\n",
       "      <td>5000.000000</td>\n",
       "    </tr>\n",
       "    <tr>\n",
       "      <th>1755</th>\n",
       "      <td>20.0</td>\n",
       "      <td>0.0</td>\n",
       "      <td>NaN</td>\n",
       "      <td>NaN</td>\n",
       "      <td>NaN</td>\n",
       "      <td>NaN</td>\n",
       "      <td>NaN</td>\n",
       "      <td>more than 1 million</td>\n",
       "      <td>NaN</td>\n",
       "      <td>NaN</td>\n",
       "      <td>...</td>\n",
       "      <td>NaN</td>\n",
       "      <td>NaN</td>\n",
       "      <td>1.0</td>\n",
       "      <td>NaN</td>\n",
       "      <td>1.0</td>\n",
       "      <td>NaN</td>\n",
       "      <td>NaN</td>\n",
       "      <td>NaN</td>\n",
       "      <td>NaN</td>\n",
       "      <td>3333.333333</td>\n",
       "    </tr>\n",
       "    <tr>\n",
       "      <th>7989</th>\n",
       "      <td>28.0</td>\n",
       "      <td>0.0</td>\n",
       "      <td>NaN</td>\n",
       "      <td>NaN</td>\n",
       "      <td>NaN</td>\n",
       "      <td>NaN</td>\n",
       "      <td>NaN</td>\n",
       "      <td>between 100,000 and 1 million</td>\n",
       "      <td>1.0</td>\n",
       "      <td>NaN</td>\n",
       "      <td>...</td>\n",
       "      <td>NaN</td>\n",
       "      <td>NaN</td>\n",
       "      <td>NaN</td>\n",
       "      <td>NaN</td>\n",
       "      <td>NaN</td>\n",
       "      <td>NaN</td>\n",
       "      <td>NaN</td>\n",
       "      <td>NaN</td>\n",
       "      <td>NaN</td>\n",
       "      <td>5000.000000</td>\n",
       "    </tr>\n",
       "    <tr>\n",
       "      <th>8126</th>\n",
       "      <td>22.0</td>\n",
       "      <td>0.0</td>\n",
       "      <td>NaN</td>\n",
       "      <td>NaN</td>\n",
       "      <td>NaN</td>\n",
       "      <td>NaN</td>\n",
       "      <td>NaN</td>\n",
       "      <td>more than 1 million</td>\n",
       "      <td>NaN</td>\n",
       "      <td>NaN</td>\n",
       "      <td>...</td>\n",
       "      <td>NaN</td>\n",
       "      <td>1.0</td>\n",
       "      <td>NaN</td>\n",
       "      <td>NaN</td>\n",
       "      <td>1.0</td>\n",
       "      <td>NaN</td>\n",
       "      <td>NaN</td>\n",
       "      <td>NaN</td>\n",
       "      <td>1.0</td>\n",
       "      <td>5000.000000</td>\n",
       "    </tr>\n",
       "    <tr>\n",
       "      <th>13398</th>\n",
       "      <td>19.0</td>\n",
       "      <td>0.0</td>\n",
       "      <td>NaN</td>\n",
       "      <td>NaN</td>\n",
       "      <td>NaN</td>\n",
       "      <td>NaN</td>\n",
       "      <td>NaN</td>\n",
       "      <td>more than 1 million</td>\n",
       "      <td>NaN</td>\n",
       "      <td>NaN</td>\n",
       "      <td>...</td>\n",
       "      <td>NaN</td>\n",
       "      <td>NaN</td>\n",
       "      <td>NaN</td>\n",
       "      <td>NaN</td>\n",
       "      <td>NaN</td>\n",
       "      <td>NaN</td>\n",
       "      <td>NaN</td>\n",
       "      <td>NaN</td>\n",
       "      <td>NaN</td>\n",
       "      <td>10000.000000</td>\n",
       "    </tr>\n",
       "    <tr>\n",
       "      <th>15587</th>\n",
       "      <td>27.0</td>\n",
       "      <td>0.0</td>\n",
       "      <td>NaN</td>\n",
       "      <td>NaN</td>\n",
       "      <td>NaN</td>\n",
       "      <td>NaN</td>\n",
       "      <td>NaN</td>\n",
       "      <td>more than 1 million</td>\n",
       "      <td>NaN</td>\n",
       "      <td>NaN</td>\n",
       "      <td>...</td>\n",
       "      <td>NaN</td>\n",
       "      <td>1.0</td>\n",
       "      <td>1.0</td>\n",
       "      <td>NaN</td>\n",
       "      <td>1.0</td>\n",
       "      <td>NaN</td>\n",
       "      <td>NaN</td>\n",
       "      <td>NaN</td>\n",
       "      <td>NaN</td>\n",
       "      <td>4166.666667</td>\n",
       "    </tr>\n",
       "  </tbody>\n",
       "</table>\n",
       "<p>6 rows × 137 columns</p>\n",
       "</div>"
      ],
      "text/plain": [
       "        Age  AttendedBootcamp  BootcampFinish  BootcampLoanYesNo BootcampName  \\\n",
       "1728   24.0               0.0             NaN                NaN          NaN   \n",
       "1755   20.0               0.0             NaN                NaN          NaN   \n",
       "7989   28.0               0.0             NaN                NaN          NaN   \n",
       "8126   22.0               0.0             NaN                NaN          NaN   \n",
       "13398  19.0               0.0             NaN                NaN          NaN   \n",
       "15587  27.0               0.0             NaN                NaN          NaN   \n",
       "\n",
       "       BootcampRecommend  ChildrenNumber                 CityPopulation  \\\n",
       "1728                 NaN             NaN  between 100,000 and 1 million   \n",
       "1755                 NaN             NaN            more than 1 million   \n",
       "7989                 NaN             NaN  between 100,000 and 1 million   \n",
       "8126                 NaN             NaN            more than 1 million   \n",
       "13398                NaN             NaN            more than 1 million   \n",
       "15587                NaN             NaN            more than 1 million   \n",
       "\n",
       "       CodeEventConferences  CodeEventDjangoGirls      ...        \\\n",
       "1728                    NaN                   NaN      ...         \n",
       "1755                    NaN                   NaN      ...         \n",
       "7989                    1.0                   NaN      ...         \n",
       "8126                    NaN                   NaN      ...         \n",
       "13398                   NaN                   NaN      ...         \n",
       "15587                   NaN                   NaN      ...         \n",
       "\n",
       "       YouTubeFunFunFunction  YouTubeGoogleDev  YouTubeLearnCode  \\\n",
       "1728                     NaN               NaN               NaN   \n",
       "1755                     NaN               NaN               1.0   \n",
       "7989                     NaN               NaN               NaN   \n",
       "8126                     NaN               1.0               NaN   \n",
       "13398                    NaN               NaN               NaN   \n",
       "15587                    NaN               1.0               1.0   \n",
       "\n",
       "       YouTubeLevelUpTuts  YouTubeMIT  YouTubeMozillaHacks  YouTubeOther  \\\n",
       "1728                  NaN         NaN                  NaN           NaN   \n",
       "1755                  NaN         1.0                  NaN           NaN   \n",
       "7989                  NaN         NaN                  NaN           NaN   \n",
       "8126                  NaN         1.0                  NaN           NaN   \n",
       "13398                 NaN         NaN                  NaN           NaN   \n",
       "15587                 NaN         1.0                  NaN           NaN   \n",
       "\n",
       "      YouTubeSimplilearn  YouTubeTheNewBoston  SpendPerMonth  \n",
       "1728                 NaN                  NaN    5000.000000  \n",
       "1755                 NaN                  NaN    3333.333333  \n",
       "7989                 NaN                  NaN    5000.000000  \n",
       "8126                 NaN                  1.0    5000.000000  \n",
       "13398                NaN                  NaN   10000.000000  \n",
       "15587                NaN                  NaN    4166.666667  \n",
       "\n",
       "[6 rows x 137 columns]"
      ]
     },
     "execution_count": 43,
     "metadata": {},
     "output_type": "execute_result"
    }
   ],
   "source": [
    "indian_extreme_spenders"
   ]
  },
  {
   "cell_type": "markdown",
   "metadata": {},
   "source": [
    "Zumindest kann man die Ausgaben nicht darauf beziehen, dass ein bestimmtes Bootcamp besucht worden ist"
   ]
  },
  {
   "cell_type": "code",
   "execution_count": 44,
   "metadata": {
    "collapsed": true
   },
   "outputs": [],
   "source": [
    "us_extreme_spenders=data.loc[(data[\"CountryLive\"]==\"United States of America\")&(data[\"SpendPerMonth\"]>3000)]"
   ]
  },
  {
   "cell_type": "code",
   "execution_count": 45,
   "metadata": {
    "collapsed": false
   },
   "outputs": [
    {
     "data": {
      "text/html": [
       "<div>\n",
       "<style scoped>\n",
       "    .dataframe tbody tr th:only-of-type {\n",
       "        vertical-align: middle;\n",
       "    }\n",
       "\n",
       "    .dataframe tbody tr th {\n",
       "        vertical-align: top;\n",
       "    }\n",
       "\n",
       "    .dataframe thead th {\n",
       "        text-align: right;\n",
       "    }\n",
       "</style>\n",
       "<table border=\"1\" class=\"dataframe\">\n",
       "  <thead>\n",
       "    <tr style=\"text-align: right;\">\n",
       "      <th></th>\n",
       "      <th>Age</th>\n",
       "      <th>AttendedBootcamp</th>\n",
       "      <th>BootcampFinish</th>\n",
       "      <th>BootcampLoanYesNo</th>\n",
       "      <th>BootcampName</th>\n",
       "      <th>BootcampRecommend</th>\n",
       "      <th>ChildrenNumber</th>\n",
       "      <th>CityPopulation</th>\n",
       "      <th>CodeEventConferences</th>\n",
       "      <th>CodeEventDjangoGirls</th>\n",
       "      <th>...</th>\n",
       "      <th>YouTubeFunFunFunction</th>\n",
       "      <th>YouTubeGoogleDev</th>\n",
       "      <th>YouTubeLearnCode</th>\n",
       "      <th>YouTubeLevelUpTuts</th>\n",
       "      <th>YouTubeMIT</th>\n",
       "      <th>YouTubeMozillaHacks</th>\n",
       "      <th>YouTubeOther</th>\n",
       "      <th>YouTubeSimplilearn</th>\n",
       "      <th>YouTubeTheNewBoston</th>\n",
       "      <th>SpendPerMonth</th>\n",
       "    </tr>\n",
       "  </thead>\n",
       "  <tbody>\n",
       "    <tr>\n",
       "      <th>718</th>\n",
       "      <td>26.0</td>\n",
       "      <td>1.0</td>\n",
       "      <td>0.0</td>\n",
       "      <td>0.0</td>\n",
       "      <td>The Coding Boot Camp at UCLA Extension</td>\n",
       "      <td>1.0</td>\n",
       "      <td>NaN</td>\n",
       "      <td>more than 1 million</td>\n",
       "      <td>1.0</td>\n",
       "      <td>NaN</td>\n",
       "      <td>...</td>\n",
       "      <td>NaN</td>\n",
       "      <td>NaN</td>\n",
       "      <td>NaN</td>\n",
       "      <td>NaN</td>\n",
       "      <td>NaN</td>\n",
       "      <td>NaN</td>\n",
       "      <td>NaN</td>\n",
       "      <td>NaN</td>\n",
       "      <td>NaN</td>\n",
       "      <td>8000.000000</td>\n",
       "    </tr>\n",
       "    <tr>\n",
       "      <th>723</th>\n",
       "      <td>22.0</td>\n",
       "      <td>1.0</td>\n",
       "      <td>1.0</td>\n",
       "      <td>0.0</td>\n",
       "      <td>Dev Bootcamp</td>\n",
       "      <td>0.0</td>\n",
       "      <td>NaN</td>\n",
       "      <td>more than 1 million</td>\n",
       "      <td>NaN</td>\n",
       "      <td>NaN</td>\n",
       "      <td>...</td>\n",
       "      <td>1.0</td>\n",
       "      <td>NaN</td>\n",
       "      <td>NaN</td>\n",
       "      <td>NaN</td>\n",
       "      <td>NaN</td>\n",
       "      <td>NaN</td>\n",
       "      <td>NaN</td>\n",
       "      <td>NaN</td>\n",
       "      <td>NaN</td>\n",
       "      <td>4000.000000</td>\n",
       "    </tr>\n",
       "    <tr>\n",
       "      <th>1222</th>\n",
       "      <td>32.0</td>\n",
       "      <td>1.0</td>\n",
       "      <td>0.0</td>\n",
       "      <td>0.0</td>\n",
       "      <td>The Iron Yard</td>\n",
       "      <td>1.0</td>\n",
       "      <td>NaN</td>\n",
       "      <td>between 100,000 and 1 million</td>\n",
       "      <td>NaN</td>\n",
       "      <td>NaN</td>\n",
       "      <td>...</td>\n",
       "      <td>NaN</td>\n",
       "      <td>NaN</td>\n",
       "      <td>1.0</td>\n",
       "      <td>NaN</td>\n",
       "      <td>NaN</td>\n",
       "      <td>NaN</td>\n",
       "      <td>NaN</td>\n",
       "      <td>NaN</td>\n",
       "      <td>NaN</td>\n",
       "      <td>6500.000000</td>\n",
       "    </tr>\n",
       "    <tr>\n",
       "      <th>2432</th>\n",
       "      <td>37.0</td>\n",
       "      <td>0.0</td>\n",
       "      <td>NaN</td>\n",
       "      <td>NaN</td>\n",
       "      <td>NaN</td>\n",
       "      <td>NaN</td>\n",
       "      <td>NaN</td>\n",
       "      <td>between 100,000 and 1 million</td>\n",
       "      <td>NaN</td>\n",
       "      <td>NaN</td>\n",
       "      <td>...</td>\n",
       "      <td>1.0</td>\n",
       "      <td>NaN</td>\n",
       "      <td>NaN</td>\n",
       "      <td>NaN</td>\n",
       "      <td>NaN</td>\n",
       "      <td>NaN</td>\n",
       "      <td>NaN</td>\n",
       "      <td>NaN</td>\n",
       "      <td>NaN</td>\n",
       "      <td>3250.000000</td>\n",
       "    </tr>\n",
       "    <tr>\n",
       "      <th>2480</th>\n",
       "      <td>35.0</td>\n",
       "      <td>0.0</td>\n",
       "      <td>NaN</td>\n",
       "      <td>NaN</td>\n",
       "      <td>NaN</td>\n",
       "      <td>NaN</td>\n",
       "      <td>NaN</td>\n",
       "      <td>more than 1 million</td>\n",
       "      <td>NaN</td>\n",
       "      <td>NaN</td>\n",
       "      <td>...</td>\n",
       "      <td>NaN</td>\n",
       "      <td>NaN</td>\n",
       "      <td>NaN</td>\n",
       "      <td>NaN</td>\n",
       "      <td>NaN</td>\n",
       "      <td>NaN</td>\n",
       "      <td>NaN</td>\n",
       "      <td>NaN</td>\n",
       "      <td>NaN</td>\n",
       "      <td>4250.000000</td>\n",
       "    </tr>\n",
       "    <tr>\n",
       "      <th>3144</th>\n",
       "      <td>24.0</td>\n",
       "      <td>1.0</td>\n",
       "      <td>0.0</td>\n",
       "      <td>0.0</td>\n",
       "      <td>Hackbright Academy</td>\n",
       "      <td>1.0</td>\n",
       "      <td>NaN</td>\n",
       "      <td>between 100,000 and 1 million</td>\n",
       "      <td>NaN</td>\n",
       "      <td>NaN</td>\n",
       "      <td>...</td>\n",
       "      <td>NaN</td>\n",
       "      <td>NaN</td>\n",
       "      <td>NaN</td>\n",
       "      <td>NaN</td>\n",
       "      <td>NaN</td>\n",
       "      <td>NaN</td>\n",
       "      <td>NaN</td>\n",
       "      <td>NaN</td>\n",
       "      <td>NaN</td>\n",
       "      <td>4000.000000</td>\n",
       "    </tr>\n",
       "    <tr>\n",
       "      <th>3145</th>\n",
       "      <td>34.0</td>\n",
       "      <td>1.0</td>\n",
       "      <td>0.0</td>\n",
       "      <td>0.0</td>\n",
       "      <td>Hackbright Academy</td>\n",
       "      <td>1.0</td>\n",
       "      <td>NaN</td>\n",
       "      <td>between 100,000 and 1 million</td>\n",
       "      <td>NaN</td>\n",
       "      <td>NaN</td>\n",
       "      <td>...</td>\n",
       "      <td>NaN</td>\n",
       "      <td>NaN</td>\n",
       "      <td>NaN</td>\n",
       "      <td>NaN</td>\n",
       "      <td>NaN</td>\n",
       "      <td>NaN</td>\n",
       "      <td>NaN</td>\n",
       "      <td>NaN</td>\n",
       "      <td>NaN</td>\n",
       "      <td>5666.666667</td>\n",
       "    </tr>\n",
       "    <tr>\n",
       "      <th>3184</th>\n",
       "      <td>34.0</td>\n",
       "      <td>1.0</td>\n",
       "      <td>1.0</td>\n",
       "      <td>0.0</td>\n",
       "      <td>We Can Code IT</td>\n",
       "      <td>1.0</td>\n",
       "      <td>NaN</td>\n",
       "      <td>more than 1 million</td>\n",
       "      <td>NaN</td>\n",
       "      <td>NaN</td>\n",
       "      <td>...</td>\n",
       "      <td>NaN</td>\n",
       "      <td>NaN</td>\n",
       "      <td>NaN</td>\n",
       "      <td>NaN</td>\n",
       "      <td>NaN</td>\n",
       "      <td>NaN</td>\n",
       "      <td>NaN</td>\n",
       "      <td>NaN</td>\n",
       "      <td>NaN</td>\n",
       "      <td>9000.000000</td>\n",
       "    </tr>\n",
       "    <tr>\n",
       "      <th>3260</th>\n",
       "      <td>33.0</td>\n",
       "      <td>0.0</td>\n",
       "      <td>NaN</td>\n",
       "      <td>NaN</td>\n",
       "      <td>NaN</td>\n",
       "      <td>NaN</td>\n",
       "      <td>NaN</td>\n",
       "      <td>between 100,000 and 1 million</td>\n",
       "      <td>NaN</td>\n",
       "      <td>NaN</td>\n",
       "      <td>...</td>\n",
       "      <td>NaN</td>\n",
       "      <td>NaN</td>\n",
       "      <td>NaN</td>\n",
       "      <td>NaN</td>\n",
       "      <td>NaN</td>\n",
       "      <td>1.0</td>\n",
       "      <td>NaN</td>\n",
       "      <td>NaN</td>\n",
       "      <td>NaN</td>\n",
       "      <td>4000.000000</td>\n",
       "    </tr>\n",
       "    <tr>\n",
       "      <th>3930</th>\n",
       "      <td>31.0</td>\n",
       "      <td>0.0</td>\n",
       "      <td>NaN</td>\n",
       "      <td>NaN</td>\n",
       "      <td>NaN</td>\n",
       "      <td>NaN</td>\n",
       "      <td>NaN</td>\n",
       "      <td>between 100,000 and 1 million</td>\n",
       "      <td>NaN</td>\n",
       "      <td>NaN</td>\n",
       "      <td>...</td>\n",
       "      <td>1.0</td>\n",
       "      <td>1.0</td>\n",
       "      <td>1.0</td>\n",
       "      <td>1.0</td>\n",
       "      <td>1.0</td>\n",
       "      <td>NaN</td>\n",
       "      <td>various conf presentations</td>\n",
       "      <td>NaN</td>\n",
       "      <td>NaN</td>\n",
       "      <td>10833.333333</td>\n",
       "    </tr>\n",
       "    <tr>\n",
       "      <th>5059</th>\n",
       "      <td>23.0</td>\n",
       "      <td>1.0</td>\n",
       "      <td>0.0</td>\n",
       "      <td>0.0</td>\n",
       "      <td>General Assembly</td>\n",
       "      <td>1.0</td>\n",
       "      <td>NaN</td>\n",
       "      <td>between 100,000 and 1 million</td>\n",
       "      <td>NaN</td>\n",
       "      <td>NaN</td>\n",
       "      <td>...</td>\n",
       "      <td>NaN</td>\n",
       "      <td>NaN</td>\n",
       "      <td>NaN</td>\n",
       "      <td>NaN</td>\n",
       "      <td>NaN</td>\n",
       "      <td>NaN</td>\n",
       "      <td>NaN</td>\n",
       "      <td>NaN</td>\n",
       "      <td>NaN</td>\n",
       "      <td>4666.666667</td>\n",
       "    </tr>\n",
       "    <tr>\n",
       "      <th>5769</th>\n",
       "      <td>32.0</td>\n",
       "      <td>0.0</td>\n",
       "      <td>NaN</td>\n",
       "      <td>NaN</td>\n",
       "      <td>NaN</td>\n",
       "      <td>NaN</td>\n",
       "      <td>NaN</td>\n",
       "      <td>more than 1 million</td>\n",
       "      <td>NaN</td>\n",
       "      <td>NaN</td>\n",
       "      <td>...</td>\n",
       "      <td>NaN</td>\n",
       "      <td>NaN</td>\n",
       "      <td>NaN</td>\n",
       "      <td>NaN</td>\n",
       "      <td>NaN</td>\n",
       "      <td>NaN</td>\n",
       "      <td>NaN</td>\n",
       "      <td>NaN</td>\n",
       "      <td>NaN</td>\n",
       "      <td>5000.000000</td>\n",
       "    </tr>\n",
       "    <tr>\n",
       "      <th>6528</th>\n",
       "      <td>37.0</td>\n",
       "      <td>0.0</td>\n",
       "      <td>NaN</td>\n",
       "      <td>NaN</td>\n",
       "      <td>NaN</td>\n",
       "      <td>NaN</td>\n",
       "      <td>NaN</td>\n",
       "      <td>more than 1 million</td>\n",
       "      <td>NaN</td>\n",
       "      <td>NaN</td>\n",
       "      <td>...</td>\n",
       "      <td>NaN</td>\n",
       "      <td>NaN</td>\n",
       "      <td>NaN</td>\n",
       "      <td>NaN</td>\n",
       "      <td>NaN</td>\n",
       "      <td>NaN</td>\n",
       "      <td>NaN</td>\n",
       "      <td>NaN</td>\n",
       "      <td>NaN</td>\n",
       "      <td>5000.000000</td>\n",
       "    </tr>\n",
       "    <tr>\n",
       "      <th>6805</th>\n",
       "      <td>46.0</td>\n",
       "      <td>1.0</td>\n",
       "      <td>1.0</td>\n",
       "      <td>1.0</td>\n",
       "      <td>Sabio.la</td>\n",
       "      <td>0.0</td>\n",
       "      <td>NaN</td>\n",
       "      <td>between 100,000 and 1 million</td>\n",
       "      <td>NaN</td>\n",
       "      <td>NaN</td>\n",
       "      <td>...</td>\n",
       "      <td>NaN</td>\n",
       "      <td>NaN</td>\n",
       "      <td>NaN</td>\n",
       "      <td>NaN</td>\n",
       "      <td>NaN</td>\n",
       "      <td>NaN</td>\n",
       "      <td>NaN</td>\n",
       "      <td>NaN</td>\n",
       "      <td>NaN</td>\n",
       "      <td>15000.000000</td>\n",
       "    </tr>\n",
       "    <tr>\n",
       "      <th>6949</th>\n",
       "      <td>31.0</td>\n",
       "      <td>1.0</td>\n",
       "      <td>0.0</td>\n",
       "      <td>0.0</td>\n",
       "      <td>Hackbright Academy</td>\n",
       "      <td>1.0</td>\n",
       "      <td>NaN</td>\n",
       "      <td>between 100,000 and 1 million</td>\n",
       "      <td>NaN</td>\n",
       "      <td>NaN</td>\n",
       "      <td>...</td>\n",
       "      <td>NaN</td>\n",
       "      <td>NaN</td>\n",
       "      <td>NaN</td>\n",
       "      <td>NaN</td>\n",
       "      <td>NaN</td>\n",
       "      <td>NaN</td>\n",
       "      <td>NaN</td>\n",
       "      <td>NaN</td>\n",
       "      <td>NaN</td>\n",
       "      <td>3250.000000</td>\n",
       "    </tr>\n",
       "    <tr>\n",
       "      <th>7167</th>\n",
       "      <td>30.0</td>\n",
       "      <td>1.0</td>\n",
       "      <td>1.0</td>\n",
       "      <td>1.0</td>\n",
       "      <td>Hackbright Academy</td>\n",
       "      <td>1.0</td>\n",
       "      <td>NaN</td>\n",
       "      <td>more than 1 million</td>\n",
       "      <td>NaN</td>\n",
       "      <td>NaN</td>\n",
       "      <td>...</td>\n",
       "      <td>NaN</td>\n",
       "      <td>NaN</td>\n",
       "      <td>NaN</td>\n",
       "      <td>NaN</td>\n",
       "      <td>NaN</td>\n",
       "      <td>NaN</td>\n",
       "      <td>NaN</td>\n",
       "      <td>NaN</td>\n",
       "      <td>NaN</td>\n",
       "      <td>3333.333333</td>\n",
       "    </tr>\n",
       "    <tr>\n",
       "      <th>7198</th>\n",
       "      <td>32.0</td>\n",
       "      <td>0.0</td>\n",
       "      <td>NaN</td>\n",
       "      <td>NaN</td>\n",
       "      <td>NaN</td>\n",
       "      <td>NaN</td>\n",
       "      <td>NaN</td>\n",
       "      <td>more than 1 million</td>\n",
       "      <td>1.0</td>\n",
       "      <td>NaN</td>\n",
       "      <td>...</td>\n",
       "      <td>NaN</td>\n",
       "      <td>1.0</td>\n",
       "      <td>1.0</td>\n",
       "      <td>1.0</td>\n",
       "      <td>NaN</td>\n",
       "      <td>NaN</td>\n",
       "      <td>NaN</td>\n",
       "      <td>NaN</td>\n",
       "      <td>NaN</td>\n",
       "      <td>14000.000000</td>\n",
       "    </tr>\n",
       "    <tr>\n",
       "      <th>7505</th>\n",
       "      <td>26.0</td>\n",
       "      <td>1.0</td>\n",
       "      <td>0.0</td>\n",
       "      <td>1.0</td>\n",
       "      <td>Codeup</td>\n",
       "      <td>0.0</td>\n",
       "      <td>NaN</td>\n",
       "      <td>more than 1 million</td>\n",
       "      <td>NaN</td>\n",
       "      <td>NaN</td>\n",
       "      <td>...</td>\n",
       "      <td>NaN</td>\n",
       "      <td>NaN</td>\n",
       "      <td>NaN</td>\n",
       "      <td>NaN</td>\n",
       "      <td>1.0</td>\n",
       "      <td>NaN</td>\n",
       "      <td>NaN</td>\n",
       "      <td>NaN</td>\n",
       "      <td>NaN</td>\n",
       "      <td>6666.666667</td>\n",
       "    </tr>\n",
       "    <tr>\n",
       "      <th>8030</th>\n",
       "      <td>NaN</td>\n",
       "      <td>0.0</td>\n",
       "      <td>NaN</td>\n",
       "      <td>NaN</td>\n",
       "      <td>NaN</td>\n",
       "      <td>NaN</td>\n",
       "      <td>NaN</td>\n",
       "      <td>more than 1 million</td>\n",
       "      <td>NaN</td>\n",
       "      <td>NaN</td>\n",
       "      <td>...</td>\n",
       "      <td>1.0</td>\n",
       "      <td>NaN</td>\n",
       "      <td>NaN</td>\n",
       "      <td>NaN</td>\n",
       "      <td>NaN</td>\n",
       "      <td>NaN</td>\n",
       "      <td>NaN</td>\n",
       "      <td>NaN</td>\n",
       "      <td>NaN</td>\n",
       "      <td>3333.333333</td>\n",
       "    </tr>\n",
       "    <tr>\n",
       "      <th>8202</th>\n",
       "      <td>NaN</td>\n",
       "      <td>1.0</td>\n",
       "      <td>NaN</td>\n",
       "      <td>NaN</td>\n",
       "      <td>NaN</td>\n",
       "      <td>NaN</td>\n",
       "      <td>NaN</td>\n",
       "      <td>between 100,000 and 1 million</td>\n",
       "      <td>NaN</td>\n",
       "      <td>NaN</td>\n",
       "      <td>...</td>\n",
       "      <td>NaN</td>\n",
       "      <td>1.0</td>\n",
       "      <td>NaN</td>\n",
       "      <td>NaN</td>\n",
       "      <td>NaN</td>\n",
       "      <td>NaN</td>\n",
       "      <td>NaN</td>\n",
       "      <td>NaN</td>\n",
       "      <td>NaN</td>\n",
       "      <td>5000.000000</td>\n",
       "    </tr>\n",
       "    <tr>\n",
       "      <th>8901</th>\n",
       "      <td>30.0</td>\n",
       "      <td>1.0</td>\n",
       "      <td>0.0</td>\n",
       "      <td>1.0</td>\n",
       "      <td>General Assembly</td>\n",
       "      <td>1.0</td>\n",
       "      <td>NaN</td>\n",
       "      <td>more than 1 million</td>\n",
       "      <td>NaN</td>\n",
       "      <td>1.0</td>\n",
       "      <td>...</td>\n",
       "      <td>NaN</td>\n",
       "      <td>NaN</td>\n",
       "      <td>NaN</td>\n",
       "      <td>NaN</td>\n",
       "      <td>NaN</td>\n",
       "      <td>NaN</td>\n",
       "      <td>NaN</td>\n",
       "      <td>NaN</td>\n",
       "      <td>NaN</td>\n",
       "      <td>5000.000000</td>\n",
       "    </tr>\n",
       "    <tr>\n",
       "      <th>9778</th>\n",
       "      <td>33.0</td>\n",
       "      <td>1.0</td>\n",
       "      <td>0.0</td>\n",
       "      <td>1.0</td>\n",
       "      <td>Grand Circus</td>\n",
       "      <td>1.0</td>\n",
       "      <td>NaN</td>\n",
       "      <td>between 100,000 and 1 million</td>\n",
       "      <td>NaN</td>\n",
       "      <td>NaN</td>\n",
       "      <td>...</td>\n",
       "      <td>NaN</td>\n",
       "      <td>NaN</td>\n",
       "      <td>NaN</td>\n",
       "      <td>NaN</td>\n",
       "      <td>NaN</td>\n",
       "      <td>NaN</td>\n",
       "      <td>NaN</td>\n",
       "      <td>NaN</td>\n",
       "      <td>NaN</td>\n",
       "      <td>8000.000000</td>\n",
       "    </tr>\n",
       "    <tr>\n",
       "      <th>12283</th>\n",
       "      <td>30.0</td>\n",
       "      <td>1.0</td>\n",
       "      <td>0.0</td>\n",
       "      <td>1.0</td>\n",
       "      <td>The Iron Yard</td>\n",
       "      <td>1.0</td>\n",
       "      <td>NaN</td>\n",
       "      <td>between 100,000 and 1 million</td>\n",
       "      <td>1.0</td>\n",
       "      <td>NaN</td>\n",
       "      <td>...</td>\n",
       "      <td>NaN</td>\n",
       "      <td>NaN</td>\n",
       "      <td>NaN</td>\n",
       "      <td>NaN</td>\n",
       "      <td>NaN</td>\n",
       "      <td>NaN</td>\n",
       "      <td>NaN</td>\n",
       "      <td>NaN</td>\n",
       "      <td>1.0</td>\n",
       "      <td>3333.333333</td>\n",
       "    </tr>\n",
       "    <tr>\n",
       "      <th>12877</th>\n",
       "      <td>30.0</td>\n",
       "      <td>1.0</td>\n",
       "      <td>0.0</td>\n",
       "      <td>0.0</td>\n",
       "      <td>Hackbright Academy</td>\n",
       "      <td>1.0</td>\n",
       "      <td>NaN</td>\n",
       "      <td>between 100,000 and 1 million</td>\n",
       "      <td>NaN</td>\n",
       "      <td>NaN</td>\n",
       "      <td>...</td>\n",
       "      <td>NaN</td>\n",
       "      <td>NaN</td>\n",
       "      <td>NaN</td>\n",
       "      <td>NaN</td>\n",
       "      <td>NaN</td>\n",
       "      <td>NaN</td>\n",
       "      <td>NaN</td>\n",
       "      <td>NaN</td>\n",
       "      <td>NaN</td>\n",
       "      <td>3166.666667</td>\n",
       "    </tr>\n",
       "    <tr>\n",
       "      <th>13145</th>\n",
       "      <td>44.0</td>\n",
       "      <td>1.0</td>\n",
       "      <td>0.0</td>\n",
       "      <td>0.0</td>\n",
       "      <td>Hackbright Academy</td>\n",
       "      <td>1.0</td>\n",
       "      <td>NaN</td>\n",
       "      <td>more than 1 million</td>\n",
       "      <td>1.0</td>\n",
       "      <td>NaN</td>\n",
       "      <td>...</td>\n",
       "      <td>NaN</td>\n",
       "      <td>NaN</td>\n",
       "      <td>NaN</td>\n",
       "      <td>NaN</td>\n",
       "      <td>NaN</td>\n",
       "      <td>NaN</td>\n",
       "      <td>NaN</td>\n",
       "      <td>NaN</td>\n",
       "      <td>NaN</td>\n",
       "      <td>5333.333333</td>\n",
       "    </tr>\n",
       "    <tr>\n",
       "      <th>13357</th>\n",
       "      <td>24.0</td>\n",
       "      <td>1.0</td>\n",
       "      <td>1.0</td>\n",
       "      <td>0.0</td>\n",
       "      <td>The Iron Yard</td>\n",
       "      <td>1.0</td>\n",
       "      <td>NaN</td>\n",
       "      <td>less than 100,000</td>\n",
       "      <td>NaN</td>\n",
       "      <td>NaN</td>\n",
       "      <td>...</td>\n",
       "      <td>NaN</td>\n",
       "      <td>1.0</td>\n",
       "      <td>1.0</td>\n",
       "      <td>1.0</td>\n",
       "      <td>NaN</td>\n",
       "      <td>NaN</td>\n",
       "      <td>NaN</td>\n",
       "      <td>NaN</td>\n",
       "      <td>1.0</td>\n",
       "      <td>3500.000000</td>\n",
       "    </tr>\n",
       "    <tr>\n",
       "      <th>16211</th>\n",
       "      <td>39.0</td>\n",
       "      <td>1.0</td>\n",
       "      <td>0.0</td>\n",
       "      <td>1.0</td>\n",
       "      <td>IronHack</td>\n",
       "      <td>1.0</td>\n",
       "      <td>3.0</td>\n",
       "      <td>more than 1 million</td>\n",
       "      <td>NaN</td>\n",
       "      <td>NaN</td>\n",
       "      <td>...</td>\n",
       "      <td>NaN</td>\n",
       "      <td>NaN</td>\n",
       "      <td>NaN</td>\n",
       "      <td>NaN</td>\n",
       "      <td>NaN</td>\n",
       "      <td>NaN</td>\n",
       "      <td>NaN</td>\n",
       "      <td>NaN</td>\n",
       "      <td>NaN</td>\n",
       "      <td>5000.000000</td>\n",
       "    </tr>\n",
       "    <tr>\n",
       "      <th>16290</th>\n",
       "      <td>44.0</td>\n",
       "      <td>0.0</td>\n",
       "      <td>NaN</td>\n",
       "      <td>NaN</td>\n",
       "      <td>NaN</td>\n",
       "      <td>NaN</td>\n",
       "      <td>1.0</td>\n",
       "      <td>between 100,000 and 1 million</td>\n",
       "      <td>NaN</td>\n",
       "      <td>NaN</td>\n",
       "      <td>...</td>\n",
       "      <td>NaN</td>\n",
       "      <td>NaN</td>\n",
       "      <td>NaN</td>\n",
       "      <td>NaN</td>\n",
       "      <td>NaN</td>\n",
       "      <td>NaN</td>\n",
       "      <td>NaN</td>\n",
       "      <td>NaN</td>\n",
       "      <td>NaN</td>\n",
       "      <td>4550.000000</td>\n",
       "    </tr>\n",
       "    <tr>\n",
       "      <th>16616</th>\n",
       "      <td>36.0</td>\n",
       "      <td>1.0</td>\n",
       "      <td>1.0</td>\n",
       "      <td>0.0</td>\n",
       "      <td>General Assembly</td>\n",
       "      <td>0.0</td>\n",
       "      <td>2.0</td>\n",
       "      <td>between 100,000 and 1 million</td>\n",
       "      <td>NaN</td>\n",
       "      <td>NaN</td>\n",
       "      <td>...</td>\n",
       "      <td>NaN</td>\n",
       "      <td>NaN</td>\n",
       "      <td>NaN</td>\n",
       "      <td>NaN</td>\n",
       "      <td>NaN</td>\n",
       "      <td>NaN</td>\n",
       "      <td>NaN</td>\n",
       "      <td>NaN</td>\n",
       "      <td>NaN</td>\n",
       "      <td>3250.000000</td>\n",
       "    </tr>\n",
       "    <tr>\n",
       "      <th>16650</th>\n",
       "      <td>29.0</td>\n",
       "      <td>0.0</td>\n",
       "      <td>NaN</td>\n",
       "      <td>NaN</td>\n",
       "      <td>NaN</td>\n",
       "      <td>NaN</td>\n",
       "      <td>2.0</td>\n",
       "      <td>more than 1 million</td>\n",
       "      <td>NaN</td>\n",
       "      <td>NaN</td>\n",
       "      <td>...</td>\n",
       "      <td>NaN</td>\n",
       "      <td>NaN</td>\n",
       "      <td>NaN</td>\n",
       "      <td>NaN</td>\n",
       "      <td>NaN</td>\n",
       "      <td>NaN</td>\n",
       "      <td>NaN</td>\n",
       "      <td>NaN</td>\n",
       "      <td>1.0</td>\n",
       "      <td>16666.666667</td>\n",
       "    </tr>\n",
       "    <tr>\n",
       "      <th>16700</th>\n",
       "      <td>35.0</td>\n",
       "      <td>0.0</td>\n",
       "      <td>NaN</td>\n",
       "      <td>NaN</td>\n",
       "      <td>NaN</td>\n",
       "      <td>NaN</td>\n",
       "      <td>1.0</td>\n",
       "      <td>more than 1 million</td>\n",
       "      <td>NaN</td>\n",
       "      <td>NaN</td>\n",
       "      <td>...</td>\n",
       "      <td>NaN</td>\n",
       "      <td>NaN</td>\n",
       "      <td>NaN</td>\n",
       "      <td>1.0</td>\n",
       "      <td>NaN</td>\n",
       "      <td>NaN</td>\n",
       "      <td>NaN</td>\n",
       "      <td>NaN</td>\n",
       "      <td>NaN</td>\n",
       "      <td>4500.000000</td>\n",
       "    </tr>\n",
       "    <tr>\n",
       "      <th>16719</th>\n",
       "      <td>45.0</td>\n",
       "      <td>0.0</td>\n",
       "      <td>NaN</td>\n",
       "      <td>NaN</td>\n",
       "      <td>NaN</td>\n",
       "      <td>NaN</td>\n",
       "      <td>1.0</td>\n",
       "      <td>more than 1 million</td>\n",
       "      <td>NaN</td>\n",
       "      <td>NaN</td>\n",
       "      <td>...</td>\n",
       "      <td>NaN</td>\n",
       "      <td>1.0</td>\n",
       "      <td>NaN</td>\n",
       "      <td>NaN</td>\n",
       "      <td>NaN</td>\n",
       "      <td>NaN</td>\n",
       "      <td>NaN</td>\n",
       "      <td>NaN</td>\n",
       "      <td>NaN</td>\n",
       "      <td>4000.000000</td>\n",
       "    </tr>\n",
       "    <tr>\n",
       "      <th>16997</th>\n",
       "      <td>27.0</td>\n",
       "      <td>0.0</td>\n",
       "      <td>NaN</td>\n",
       "      <td>NaN</td>\n",
       "      <td>NaN</td>\n",
       "      <td>NaN</td>\n",
       "      <td>1.0</td>\n",
       "      <td>more than 1 million</td>\n",
       "      <td>NaN</td>\n",
       "      <td>NaN</td>\n",
       "      <td>...</td>\n",
       "      <td>NaN</td>\n",
       "      <td>NaN</td>\n",
       "      <td>NaN</td>\n",
       "      <td>NaN</td>\n",
       "      <td>NaN</td>\n",
       "      <td>NaN</td>\n",
       "      <td>NaN</td>\n",
       "      <td>NaN</td>\n",
       "      <td>NaN</td>\n",
       "      <td>12500.000000</td>\n",
       "    </tr>\n",
       "    <tr>\n",
       "      <th>17231</th>\n",
       "      <td>50.0</td>\n",
       "      <td>0.0</td>\n",
       "      <td>NaN</td>\n",
       "      <td>NaN</td>\n",
       "      <td>NaN</td>\n",
       "      <td>NaN</td>\n",
       "      <td>2.0</td>\n",
       "      <td>less than 100,000</td>\n",
       "      <td>NaN</td>\n",
       "      <td>NaN</td>\n",
       "      <td>...</td>\n",
       "      <td>NaN</td>\n",
       "      <td>NaN</td>\n",
       "      <td>NaN</td>\n",
       "      <td>NaN</td>\n",
       "      <td>NaN</td>\n",
       "      <td>NaN</td>\n",
       "      <td>NaN</td>\n",
       "      <td>NaN</td>\n",
       "      <td>NaN</td>\n",
       "      <td>15000.000000</td>\n",
       "    </tr>\n",
       "  </tbody>\n",
       "</table>\n",
       "<p>34 rows × 137 columns</p>\n",
       "</div>"
      ],
      "text/plain": [
       "        Age  AttendedBootcamp  BootcampFinish  BootcampLoanYesNo  \\\n",
       "718    26.0               1.0             0.0                0.0   \n",
       "723    22.0               1.0             1.0                0.0   \n",
       "1222   32.0               1.0             0.0                0.0   \n",
       "2432   37.0               0.0             NaN                NaN   \n",
       "2480   35.0               0.0             NaN                NaN   \n",
       "3144   24.0               1.0             0.0                0.0   \n",
       "3145   34.0               1.0             0.0                0.0   \n",
       "3184   34.0               1.0             1.0                0.0   \n",
       "3260   33.0               0.0             NaN                NaN   \n",
       "3930   31.0               0.0             NaN                NaN   \n",
       "5059   23.0               1.0             0.0                0.0   \n",
       "5769   32.0               0.0             NaN                NaN   \n",
       "6528   37.0               0.0             NaN                NaN   \n",
       "6805   46.0               1.0             1.0                1.0   \n",
       "6949   31.0               1.0             0.0                0.0   \n",
       "7167   30.0               1.0             1.0                1.0   \n",
       "7198   32.0               0.0             NaN                NaN   \n",
       "7505   26.0               1.0             0.0                1.0   \n",
       "8030    NaN               0.0             NaN                NaN   \n",
       "8202    NaN               1.0             NaN                NaN   \n",
       "8901   30.0               1.0             0.0                1.0   \n",
       "9778   33.0               1.0             0.0                1.0   \n",
       "12283  30.0               1.0             0.0                1.0   \n",
       "12877  30.0               1.0             0.0                0.0   \n",
       "13145  44.0               1.0             0.0                0.0   \n",
       "13357  24.0               1.0             1.0                0.0   \n",
       "16211  39.0               1.0             0.0                1.0   \n",
       "16290  44.0               0.0             NaN                NaN   \n",
       "16616  36.0               1.0             1.0                0.0   \n",
       "16650  29.0               0.0             NaN                NaN   \n",
       "16700  35.0               0.0             NaN                NaN   \n",
       "16719  45.0               0.0             NaN                NaN   \n",
       "16997  27.0               0.0             NaN                NaN   \n",
       "17231  50.0               0.0             NaN                NaN   \n",
       "\n",
       "                                 BootcampName  BootcampRecommend  \\\n",
       "718    The Coding Boot Camp at UCLA Extension                1.0   \n",
       "723                              Dev Bootcamp                0.0   \n",
       "1222                            The Iron Yard                1.0   \n",
       "2432                                      NaN                NaN   \n",
       "2480                                      NaN                NaN   \n",
       "3144                       Hackbright Academy                1.0   \n",
       "3145                       Hackbright Academy                1.0   \n",
       "3184                           We Can Code IT                1.0   \n",
       "3260                                      NaN                NaN   \n",
       "3930                                      NaN                NaN   \n",
       "5059                         General Assembly                1.0   \n",
       "5769                                      NaN                NaN   \n",
       "6528                                      NaN                NaN   \n",
       "6805                                 Sabio.la                0.0   \n",
       "6949                       Hackbright Academy                1.0   \n",
       "7167                       Hackbright Academy                1.0   \n",
       "7198                                      NaN                NaN   \n",
       "7505                                   Codeup                0.0   \n",
       "8030                                      NaN                NaN   \n",
       "8202                                      NaN                NaN   \n",
       "8901                         General Assembly                1.0   \n",
       "9778                             Grand Circus                1.0   \n",
       "12283                           The Iron Yard                1.0   \n",
       "12877                      Hackbright Academy                1.0   \n",
       "13145                      Hackbright Academy                1.0   \n",
       "13357                           The Iron Yard                1.0   \n",
       "16211                                IronHack                1.0   \n",
       "16290                                     NaN                NaN   \n",
       "16616                        General Assembly                0.0   \n",
       "16650                                     NaN                NaN   \n",
       "16700                                     NaN                NaN   \n",
       "16719                                     NaN                NaN   \n",
       "16997                                     NaN                NaN   \n",
       "17231                                     NaN                NaN   \n",
       "\n",
       "       ChildrenNumber                 CityPopulation  CodeEventConferences  \\\n",
       "718               NaN            more than 1 million                   1.0   \n",
       "723               NaN            more than 1 million                   NaN   \n",
       "1222              NaN  between 100,000 and 1 million                   NaN   \n",
       "2432              NaN  between 100,000 and 1 million                   NaN   \n",
       "2480              NaN            more than 1 million                   NaN   \n",
       "3144              NaN  between 100,000 and 1 million                   NaN   \n",
       "3145              NaN  between 100,000 and 1 million                   NaN   \n",
       "3184              NaN            more than 1 million                   NaN   \n",
       "3260              NaN  between 100,000 and 1 million                   NaN   \n",
       "3930              NaN  between 100,000 and 1 million                   NaN   \n",
       "5059              NaN  between 100,000 and 1 million                   NaN   \n",
       "5769              NaN            more than 1 million                   NaN   \n",
       "6528              NaN            more than 1 million                   NaN   \n",
       "6805              NaN  between 100,000 and 1 million                   NaN   \n",
       "6949              NaN  between 100,000 and 1 million                   NaN   \n",
       "7167              NaN            more than 1 million                   NaN   \n",
       "7198              NaN            more than 1 million                   1.0   \n",
       "7505              NaN            more than 1 million                   NaN   \n",
       "8030              NaN            more than 1 million                   NaN   \n",
       "8202              NaN  between 100,000 and 1 million                   NaN   \n",
       "8901              NaN            more than 1 million                   NaN   \n",
       "9778              NaN  between 100,000 and 1 million                   NaN   \n",
       "12283             NaN  between 100,000 and 1 million                   1.0   \n",
       "12877             NaN  between 100,000 and 1 million                   NaN   \n",
       "13145             NaN            more than 1 million                   1.0   \n",
       "13357             NaN              less than 100,000                   NaN   \n",
       "16211             3.0            more than 1 million                   NaN   \n",
       "16290             1.0  between 100,000 and 1 million                   NaN   \n",
       "16616             2.0  between 100,000 and 1 million                   NaN   \n",
       "16650             2.0            more than 1 million                   NaN   \n",
       "16700             1.0            more than 1 million                   NaN   \n",
       "16719             1.0            more than 1 million                   NaN   \n",
       "16997             1.0            more than 1 million                   NaN   \n",
       "17231             2.0              less than 100,000                   NaN   \n",
       "\n",
       "       CodeEventDjangoGirls      ...        YouTubeFunFunFunction  \\\n",
       "718                     NaN      ...                          NaN   \n",
       "723                     NaN      ...                          1.0   \n",
       "1222                    NaN      ...                          NaN   \n",
       "2432                    NaN      ...                          1.0   \n",
       "2480                    NaN      ...                          NaN   \n",
       "3144                    NaN      ...                          NaN   \n",
       "3145                    NaN      ...                          NaN   \n",
       "3184                    NaN      ...                          NaN   \n",
       "3260                    NaN      ...                          NaN   \n",
       "3930                    NaN      ...                          1.0   \n",
       "5059                    NaN      ...                          NaN   \n",
       "5769                    NaN      ...                          NaN   \n",
       "6528                    NaN      ...                          NaN   \n",
       "6805                    NaN      ...                          NaN   \n",
       "6949                    NaN      ...                          NaN   \n",
       "7167                    NaN      ...                          NaN   \n",
       "7198                    NaN      ...                          NaN   \n",
       "7505                    NaN      ...                          NaN   \n",
       "8030                    NaN      ...                          1.0   \n",
       "8202                    NaN      ...                          NaN   \n",
       "8901                    1.0      ...                          NaN   \n",
       "9778                    NaN      ...                          NaN   \n",
       "12283                   NaN      ...                          NaN   \n",
       "12877                   NaN      ...                          NaN   \n",
       "13145                   NaN      ...                          NaN   \n",
       "13357                   NaN      ...                          NaN   \n",
       "16211                   NaN      ...                          NaN   \n",
       "16290                   NaN      ...                          NaN   \n",
       "16616                   NaN      ...                          NaN   \n",
       "16650                   NaN      ...                          NaN   \n",
       "16700                   NaN      ...                          NaN   \n",
       "16719                   NaN      ...                          NaN   \n",
       "16997                   NaN      ...                          NaN   \n",
       "17231                   NaN      ...                          NaN   \n",
       "\n",
       "       YouTubeGoogleDev  YouTubeLearnCode  YouTubeLevelUpTuts  YouTubeMIT  \\\n",
       "718                 NaN               NaN                 NaN         NaN   \n",
       "723                 NaN               NaN                 NaN         NaN   \n",
       "1222                NaN               1.0                 NaN         NaN   \n",
       "2432                NaN               NaN                 NaN         NaN   \n",
       "2480                NaN               NaN                 NaN         NaN   \n",
       "3144                NaN               NaN                 NaN         NaN   \n",
       "3145                NaN               NaN                 NaN         NaN   \n",
       "3184                NaN               NaN                 NaN         NaN   \n",
       "3260                NaN               NaN                 NaN         NaN   \n",
       "3930                1.0               1.0                 1.0         1.0   \n",
       "5059                NaN               NaN                 NaN         NaN   \n",
       "5769                NaN               NaN                 NaN         NaN   \n",
       "6528                NaN               NaN                 NaN         NaN   \n",
       "6805                NaN               NaN                 NaN         NaN   \n",
       "6949                NaN               NaN                 NaN         NaN   \n",
       "7167                NaN               NaN                 NaN         NaN   \n",
       "7198                1.0               1.0                 1.0         NaN   \n",
       "7505                NaN               NaN                 NaN         1.0   \n",
       "8030                NaN               NaN                 NaN         NaN   \n",
       "8202                1.0               NaN                 NaN         NaN   \n",
       "8901                NaN               NaN                 NaN         NaN   \n",
       "9778                NaN               NaN                 NaN         NaN   \n",
       "12283               NaN               NaN                 NaN         NaN   \n",
       "12877               NaN               NaN                 NaN         NaN   \n",
       "13145               NaN               NaN                 NaN         NaN   \n",
       "13357               1.0               1.0                 1.0         NaN   \n",
       "16211               NaN               NaN                 NaN         NaN   \n",
       "16290               NaN               NaN                 NaN         NaN   \n",
       "16616               NaN               NaN                 NaN         NaN   \n",
       "16650               NaN               NaN                 NaN         NaN   \n",
       "16700               NaN               NaN                 1.0         NaN   \n",
       "16719               1.0               NaN                 NaN         NaN   \n",
       "16997               NaN               NaN                 NaN         NaN   \n",
       "17231               NaN               NaN                 NaN         NaN   \n",
       "\n",
       "       YouTubeMozillaHacks                YouTubeOther YouTubeSimplilearn  \\\n",
       "718                    NaN                         NaN                NaN   \n",
       "723                    NaN                         NaN                NaN   \n",
       "1222                   NaN                         NaN                NaN   \n",
       "2432                   NaN                         NaN                NaN   \n",
       "2480                   NaN                         NaN                NaN   \n",
       "3144                   NaN                         NaN                NaN   \n",
       "3145                   NaN                         NaN                NaN   \n",
       "3184                   NaN                         NaN                NaN   \n",
       "3260                   1.0                         NaN                NaN   \n",
       "3930                   NaN  various conf presentations                NaN   \n",
       "5059                   NaN                         NaN                NaN   \n",
       "5769                   NaN                         NaN                NaN   \n",
       "6528                   NaN                         NaN                NaN   \n",
       "6805                   NaN                         NaN                NaN   \n",
       "6949                   NaN                         NaN                NaN   \n",
       "7167                   NaN                         NaN                NaN   \n",
       "7198                   NaN                         NaN                NaN   \n",
       "7505                   NaN                         NaN                NaN   \n",
       "8030                   NaN                         NaN                NaN   \n",
       "8202                   NaN                         NaN                NaN   \n",
       "8901                   NaN                         NaN                NaN   \n",
       "9778                   NaN                         NaN                NaN   \n",
       "12283                  NaN                         NaN                NaN   \n",
       "12877                  NaN                         NaN                NaN   \n",
       "13145                  NaN                         NaN                NaN   \n",
       "13357                  NaN                         NaN                NaN   \n",
       "16211                  NaN                         NaN                NaN   \n",
       "16290                  NaN                         NaN                NaN   \n",
       "16616                  NaN                         NaN                NaN   \n",
       "16650                  NaN                         NaN                NaN   \n",
       "16700                  NaN                         NaN                NaN   \n",
       "16719                  NaN                         NaN                NaN   \n",
       "16997                  NaN                         NaN                NaN   \n",
       "17231                  NaN                         NaN                NaN   \n",
       "\n",
       "       YouTubeTheNewBoston  SpendPerMonth  \n",
       "718                    NaN    8000.000000  \n",
       "723                    NaN    4000.000000  \n",
       "1222                   NaN    6500.000000  \n",
       "2432                   NaN    3250.000000  \n",
       "2480                   NaN    4250.000000  \n",
       "3144                   NaN    4000.000000  \n",
       "3145                   NaN    5666.666667  \n",
       "3184                   NaN    9000.000000  \n",
       "3260                   NaN    4000.000000  \n",
       "3930                   NaN   10833.333333  \n",
       "5059                   NaN    4666.666667  \n",
       "5769                   NaN    5000.000000  \n",
       "6528                   NaN    5000.000000  \n",
       "6805                   NaN   15000.000000  \n",
       "6949                   NaN    3250.000000  \n",
       "7167                   NaN    3333.333333  \n",
       "7198                   NaN   14000.000000  \n",
       "7505                   NaN    6666.666667  \n",
       "8030                   NaN    3333.333333  \n",
       "8202                   NaN    5000.000000  \n",
       "8901                   NaN    5000.000000  \n",
       "9778                   NaN    8000.000000  \n",
       "12283                  1.0    3333.333333  \n",
       "12877                  NaN    3166.666667  \n",
       "13145                  NaN    5333.333333  \n",
       "13357                  1.0    3500.000000  \n",
       "16211                  NaN    5000.000000  \n",
       "16290                  NaN    4550.000000  \n",
       "16616                  NaN    3250.000000  \n",
       "16650                  1.0   16666.666667  \n",
       "16700                  NaN    4500.000000  \n",
       "16719                  NaN    4000.000000  \n",
       "16997                  NaN   12500.000000  \n",
       "17231                  NaN   15000.000000  \n",
       "\n",
       "[34 rows x 137 columns]"
      ]
     },
     "execution_count": 45,
     "metadata": {},
     "output_type": "execute_result"
    }
   ],
   "source": [
    "us_extreme_spenders"
   ]
  },
  {
   "cell_type": "code",
   "execution_count": 46,
   "metadata": {
    "collapsed": false
   },
   "outputs": [
    {
     "data": {
      "text/plain": [
       "0.5882352941176471"
      ]
     },
     "execution_count": 46,
     "metadata": {},
     "output_type": "execute_result"
    }
   ],
   "source": [
    "us_extreme_spenders[us_extreme_spenders[\"AttendedBootcamp\"]==1].shape[0]/us_extreme_spenders.shape[0]"
   ]
  },
  {
   "cell_type": "markdown",
   "metadata": {},
   "source": [
    "Bei den us-amerikanischen Ausreißern haben zumindest knapp 60% ein Bootcamp besucht."
   ]
  },
  {
   "cell_type": "markdown",
   "metadata": {},
   "source": [
    "Es werden nun alle Werte über 5000 entfernt um zumindest die gröbsten Ausreißer herauszurechnen. Es muss an dieser Stelle klar sein, dass dies eine grobe Bestimmung ist und gewählt wurde, um den Datenverlust gering zu halten."
   ]
  },
  {
   "cell_type": "code",
   "execution_count": 47,
   "metadata": {
    "collapsed": true
   },
   "outputs": [],
   "source": [
    "data=data[data[\"SpendPerMonth\"]<5000]"
   ]
  },
  {
   "cell_type": "code",
   "execution_count": 48,
   "metadata": {
    "collapsed": false
   },
   "outputs": [
    {
     "data": {
      "text/html": [
       "<div>\n",
       "<style scoped>\n",
       "    .dataframe tbody tr th:only-of-type {\n",
       "        vertical-align: middle;\n",
       "    }\n",
       "\n",
       "    .dataframe tbody tr th {\n",
       "        vertical-align: top;\n",
       "    }\n",
       "\n",
       "    .dataframe thead th {\n",
       "        text-align: right;\n",
       "    }\n",
       "</style>\n",
       "<table border=\"1\" class=\"dataframe\">\n",
       "  <thead>\n",
       "    <tr style=\"text-align: right;\">\n",
       "      <th></th>\n",
       "      <th>SpendPerMonth</th>\n",
       "    </tr>\n",
       "    <tr>\n",
       "      <th>CountryLive</th>\n",
       "      <th></th>\n",
       "    </tr>\n",
       "  </thead>\n",
       "  <tbody>\n",
       "    <tr>\n",
       "      <th>United States of America</th>\n",
       "      <td>130.639017</td>\n",
       "    </tr>\n",
       "    <tr>\n",
       "      <th>India</th>\n",
       "      <td>81.812102</td>\n",
       "    </tr>\n",
       "    <tr>\n",
       "      <th>United Kingdom</th>\n",
       "      <td>45.534443</td>\n",
       "    </tr>\n",
       "    <tr>\n",
       "      <th>Canada</th>\n",
       "      <td>93.065400</td>\n",
       "    </tr>\n",
       "  </tbody>\n",
       "</table>\n",
       "</div>"
      ],
      "text/plain": [
       "                          SpendPerMonth\n",
       "CountryLive                            \n",
       "United States of America     130.639017\n",
       "India                         81.812102\n",
       "United Kingdom                45.534443\n",
       "Canada                        93.065400"
      ]
     },
     "execution_count": 48,
     "metadata": {},
     "output_type": "execute_result"
    }
   ],
   "source": [
    "data[[\"CountryLive\",\"SpendPerMonth\"]].groupby(by=\"CountryLive\").mean().loc[[\"United States of America\",\"India\",\"United Kingdom\",\"Canada\"]]"
   ]
  },
  {
   "cell_type": "markdown",
   "metadata": {},
   "source": [
    "Ausgehend von diesen Daten soll die Frage beantwortet werden, wieviele wirkliche potenzielle Kunden haben diese Länder. Es wurde bereits eine Einschränkung nach den Herkunftsländern der Interessenten gemacht, eine Sprache konnte bestimmt werden und es wurde eine grobe Aufstellung vorgenommen, in welchen Ländern im Durchschnitt am meisten gezahlt werden würde.\n",
    "\n",
    "Dies soll nun anhand eines konkreten Abo-Modelles überprüft werden von 59$ pro Monat. Wieviele Kunden wären bereit diesen Betrag zu bezahlen"
   ]
  },
  {
   "cell_type": "code",
   "execution_count": 49,
   "metadata": {
    "collapsed": true
   },
   "outputs": [],
   "source": [
    "target_countries=data[data[\"CountryLive\"].isin([\"United States of America\",\"India\",\"United Kingdom\",\"Canada\"])]"
   ]
  },
  {
   "cell_type": "code",
   "execution_count": 51,
   "metadata": {
    "collapsed": false
   },
   "outputs": [
    {
     "data": {
      "text/plain": [
       "array(['United States of America', 'United Kingdom', 'India', 'Canada'],\n",
       "      dtype=object)"
      ]
     },
     "execution_count": 51,
     "metadata": {},
     "output_type": "execute_result"
    }
   ],
   "source": [
    "target_countries[\"CountryLive\"].unique()"
   ]
  },
  {
   "cell_type": "code",
   "execution_count": 60,
   "metadata": {
    "collapsed": false
   },
   "outputs": [
    {
     "name": "stderr",
     "output_type": "stream",
     "text": [
      "/dataquest/system/env/python3/lib/python3.4/site-packages/ipykernel/__main__.py:1: SettingWithCopyWarning:\n",
      "\n",
      "\n",
      "A value is trying to be set on a copy of a slice from a DataFrame.\n",
      "Try using .loc[row_indexer,col_indexer] = value instead\n",
      "\n",
      "See the caveats in the documentation: http://pandas.pydata.org/pandas-docs/stable/indexing.html#indexing-view-versus-copy\n",
      "\n"
     ]
    }
   ],
   "source": [
    "target_countries[\"Over59\"]=target_countries[\"SpendPerMonth\"]>=59"
   ]
  },
  {
   "cell_type": "code",
   "execution_count": 63,
   "metadata": {
    "collapsed": false
   },
   "outputs": [
    {
     "data": {
      "text/html": [
       "<div>\n",
       "<style scoped>\n",
       "    .dataframe tbody tr th:only-of-type {\n",
       "        vertical-align: middle;\n",
       "    }\n",
       "\n",
       "    .dataframe tbody tr th {\n",
       "        vertical-align: top;\n",
       "    }\n",
       "\n",
       "    .dataframe thead th {\n",
       "        text-align: right;\n",
       "    }\n",
       "</style>\n",
       "<table border=\"1\" class=\"dataframe\">\n",
       "  <thead>\n",
       "    <tr style=\"text-align: right;\">\n",
       "      <th></th>\n",
       "      <th>Over59</th>\n",
       "    </tr>\n",
       "    <tr>\n",
       "      <th>CountryLive</th>\n",
       "      <th></th>\n",
       "    </tr>\n",
       "  </thead>\n",
       "  <tbody>\n",
       "    <tr>\n",
       "      <th>Canada</th>\n",
       "      <td>0.163180</td>\n",
       "    </tr>\n",
       "    <tr>\n",
       "      <th>India</th>\n",
       "      <td>0.154684</td>\n",
       "    </tr>\n",
       "    <tr>\n",
       "      <th>United Kingdom</th>\n",
       "      <td>0.154122</td>\n",
       "    </tr>\n",
       "    <tr>\n",
       "      <th>United States of America</th>\n",
       "      <td>0.221078</td>\n",
       "    </tr>\n",
       "  </tbody>\n",
       "</table>\n",
       "</div>"
      ],
      "text/plain": [
       "                            Over59\n",
       "CountryLive                       \n",
       "Canada                    0.163180\n",
       "India                     0.154684\n",
       "United Kingdom            0.154122\n",
       "United States of America  0.221078"
      ]
     },
     "execution_count": 63,
     "metadata": {},
     "output_type": "execute_result"
    }
   ],
   "source": [
    "target_countries[[\"CountryLive\",\"Over59\"]].groupby(by=\"CountryLive\").mean()"
   ]
  },
  {
   "cell_type": "markdown",
   "metadata": {},
   "source": [
    "Dieser Wert ist besonders interessant, da er den Ausreißer-Einfluss minimiert und diejenige herausrechnet, die nichts bereit sind für die Weiterbildung zu bezahlen.\n",
    "\n",
    "Hier zeigt sich, dass mit Abstand am meisten Teilnehmer aus den USA mindestens 59$ pro Monat in der Vergangenheit ausgegeben haben. Dies ist ein weitere Hinweis darauf, dass die USA der wichtigste Markt für die Werbe-Kampagne darstellt.\n",
    "\n",
    "Die anderen drei Länder befinden sich in etwa auf ähnlichem Niveau. Es zeigt sich auch, dass Indien und das Vereinigte Königreich sich bei dieser Betrachtung annähern und nicht mehr unterscheidbar sind."
   ]
  },
  {
   "cell_type": "code",
   "execution_count": 65,
   "metadata": {
    "collapsed": false
   },
   "outputs": [
    {
     "data": {
      "text/plain": [
       "United States of America    0.748843\n",
       "India                       0.117995\n",
       "United Kingdom              0.071722\n",
       "Canada                      0.061440\n",
       "Name: CountryLive, dtype: float64"
      ]
     },
     "execution_count": 65,
     "metadata": {},
     "output_type": "execute_result"
    }
   ],
   "source": [
    "target_countries[\"CountryLive\"].value_counts(normalize=True)"
   ]
  },
  {
   "cell_type": "markdown",
   "metadata": {},
   "source": [
    "- Es macht Sinn in allen Ländern zu werben, insbespndere in den USA und Indien. Kanada ist aufgrund der Ausgabe-Bereitschaft auch ein interessanter Markt\n",
    "- Man könnte das Vereinigte Königreich debattieren, da vergleichsweise wenig Interessenten und niedrige Durchschnittsausgaben.\n",
    "- Es macht Sinn das Werbe-Budget stärker auf die USA zu konzentrieren, da die Bereitschaft 59 Dollar auszugeben größer ist (Im Schnitt sogar ~130 Dollar) und auch das Interesse an den beiden Themen besonders groß zu sein scheint (sie machen immerhin ~75% des verbleibenden Datensatzes aus)\n",
    "- Auch Werbung nur in den USA kann man aufgrund der Daten vertreten (siehe oben)\n",
    "- Eine konkrete Entscheidung sollte trotzdem in Zusammenarbeit mit der Marketing-Abteilung entstehen."
   ]
  }
 ],
 "metadata": {
  "kernelspec": {
   "display_name": "Python 3",
   "language": "python",
   "name": "python3"
  },
  "language_info": {
   "codemirror_mode": {
    "name": "ipython",
    "version": 3
   },
   "file_extension": ".py",
   "mimetype": "text/x-python",
   "name": "python",
   "nbconvert_exporter": "python",
   "pygments_lexer": "ipython3",
   "version": "3.4.3"
  }
 },
 "nbformat": 4,
 "nbformat_minor": 2
}
